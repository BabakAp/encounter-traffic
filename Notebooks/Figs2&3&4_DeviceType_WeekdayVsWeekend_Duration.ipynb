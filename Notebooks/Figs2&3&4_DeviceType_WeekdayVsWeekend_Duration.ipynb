{
 "cells": [
  {
   "cell_type": "markdown",
   "metadata": {},
   "source": [
    "# This notebook produces Figure 2, 3 and 4:\n",
    "**Figure 2: CDF of pairwise cosine similarity of traffic profiles across <span style=\"color:blue; font-size:large\">device types</span> (vertical lines denote medians.)  \n",
    "Figure 3: CDF of pairwise cosine similarity of traffic profiles in <span style=\"color:blue; font-size:large\">weekdays and weekends</span> (vertical lines denote medians).  \n",
    "Figure 4: CDF of pairwise cosine similarity of traffic profiles with different <span style=\"color:blue; font-size:large\">encounter durations</span> (vertical lines denote medians).**"
   ]
  },
  {
   "cell_type": "markdown",
   "metadata": {},
   "source": [
    "__Note: Since this notebook works with a sample of anonymized data, the numbers and figures are bound to be slightly different from the paper.__"
   ]
  },
  {
   "cell_type": "markdown",
   "metadata": {},
   "source": [
    "Code License: [Apache License 2.0](https://spdx.org/licenses/Apache-2.0.html)"
   ]
  },
  {
   "cell_type": "markdown",
   "metadata": {},
   "source": [
    "#### IMPORTS:"
   ]
  },
  {
   "cell_type": "code",
   "execution_count": 1,
   "metadata": {},
   "outputs": [],
   "source": [
    "import sys, os, math, re, warnings, gc\n",
    "from collections import defaultdict\n",
    "import pandas as pd\n",
    "import numpy as np\n",
    "from scipy import stats as st\n",
    "import matplotlib.pyplot as plt\n",
    "import seaborn as sns\n",
    "import itertools\n",
    "from tqdm import tqdm, tqdm_notebook\n",
    "from sklearn.feature_extraction.text import TfidfTransformer\n",
    "%matplotlib inline"
   ]
  },
  {
   "cell_type": "code",
   "execution_count": 2,
   "metadata": {
    "scrolled": true
   },
   "outputs": [
    {
     "name": "stdout",
     "output_type": "stream",
     "text": [
      "pandas v0.23.4\n",
      "numpy v1.14.5\n",
      "Python v3.6.6 | packaged by conda-forge | (default, Oct 12 2018, 14:08:43) \n",
      "[GCC 4.8.2 20140120 (Red Hat 4.8.2-15)]\n"
     ]
    }
   ],
   "source": [
    "print(\"pandas v\" + pd.__version__)\n",
    "print(\"numpy v\" + np.__version__)\n",
    "print(\"Python v\" + sys.version)"
   ]
  },
  {
   "cell_type": "markdown",
   "metadata": {},
   "source": [
    "On test machine:  \n",
    "pandas v0.23.4  \n",
    "numpy v1.15.3  \n",
    "Python v3.6.6 |Anaconda, Inc.| (default, Jun 28 2018, 17:14:51)   \n",
    "[GCC 7.2.0]"
   ]
  },
  {
   "cell_type": "code",
   "execution_count": 3,
   "metadata": {},
   "outputs": [],
   "source": [
    "%load_ext blackcellmagic"
   ]
  },
  {
   "cell_type": "markdown",
   "metadata": {},
   "source": [
    "#### VARIABLES:"
   ]
  },
  {
   "cell_type": "code",
   "execution_count": 4,
   "metadata": {},
   "outputs": [],
   "source": [
    "random_state = 1000 #seed for sampling\n",
    "np.random.seed(random_state)"
   ]
  },
  {
   "cell_type": "code",
   "execution_count": 5,
   "metadata": {},
   "outputs": [],
   "source": [
    "# Ignoring Friday 06, because it's not complete and last few days that fall in exams\n",
    "weekdays = [\"09\", \"10\", \"11\", \"12\", \"13\", \"16\", \"17\", \"18\", \"19\", \"20\", \"23\", \"24\", \"25\"] #, \"26\", \"27\", \"30\"]\n",
    "weekdays_int = [9, 10, 11, 12, 13, 16, 17, 18, 19, 20, 23, 24, 25] #, \"26\", \"27\", \"30\"]\n",
    "weekends = [\"07\", \"08\", \"14\", \"15\", \"21\", \"22\" ] # , \"28\", \"29\"]\n",
    "weekends_int = [7, 8, 14, 15, 21, 22] # , \"28\", \"29\"]\n",
    "# Set of weekdays and weekends.\n",
    "wd = set(weekdays_int)\n",
    "we = set(weekends_int)"
   ]
  },
  {
   "cell_type": "code",
   "execution_count": 6,
   "metadata": {},
   "outputs": [],
   "source": [
    "n_min_count = 20"
   ]
  },
  {
   "cell_type": "code",
   "execution_count": 7,
   "metadata": {},
   "outputs": [],
   "source": [
    "# Returns cosine similiarity of two input vectors.\n",
    "# Enable @jit if numbda is present for a modest speedup.\n",
    "# @jit\n",
    "def getCosineSim(u1, u2):\n",
    "    return np.dot(u1, u2) / (np.linalg.norm(u1, 2) * np.linalg.norm(u2, 2))"
   ]
  },
  {
   "cell_type": "markdown",
   "metadata": {},
   "source": [
    "# Input Processing:"
   ]
  },
  {
   "cell_type": "markdown",
   "metadata": {},
   "source": [
    "###### Load traffic profiles of encounters:"
   ]
  },
  {
   "cell_type": "code",
   "execution_count": 8,
   "metadata": {},
   "outputs": [
    {
     "name": "stdout",
     "output_type": "stream",
     "text": [
      "CPU times: user 2.22 s, sys: 10.7 s, total: 13 s\n",
      "Wall time: 2.37 s\n"
     ]
    }
   ],
   "source": [
    "%%time\n",
    "df = pd.read_parquet(\n",
    "    \"../Data/Traffic/encounter_profiles_2k_public.br.parquet\",\n",
    "    engine=\"pyarrow\", \n",
    ")\n",
    "# Use fastparquet or pyarrow engine. pyarrow is faster here (pip install -U pyarrow)."
   ]
  },
  {
   "cell_type": "code",
   "execution_count": 9,
   "metadata": {},
   "outputs": [
    {
     "name": "stdout",
     "output_type": "stream",
     "text": [
      "Number of users in sample: 2000\n",
      "Number of data points in sample: 11,001,899\n"
     ]
    }
   ],
   "source": [
    "print(\"Number of users in sample:\", len(df[\"uid\"].unique()))\n",
    "print(\"Number of data points in sample:\", \"{:,}\".format(len(df)))"
   ]
  },
  {
   "cell_type": "markdown",
   "metadata": {},
   "source": [
    "Ignore the traffic profiles that are not in the available set of buildings:"
   ]
  },
  {
   "cell_type": "code",
   "execution_count": 10,
   "metadata": {},
   "outputs": [
    {
     "data": {
      "text/html": [
       "<div>\n",
       "<style scoped>\n",
       "    .dataframe tbody tr th:only-of-type {\n",
       "        vertical-align: middle;\n",
       "    }\n",
       "\n",
       "    .dataframe tbody tr th {\n",
       "        vertical-align: top;\n",
       "    }\n",
       "\n",
       "    .dataframe thead th {\n",
       "        text-align: right;\n",
       "    }\n",
       "</style>\n",
       "<table border=\"1\" class=\"dataframe\">\n",
       "  <thead>\n",
       "    <tr style=\"text-align: right;\">\n",
       "      <th></th>\n",
       "      <th>day</th>\n",
       "      <th>bucket</th>\n",
       "      <th>ip</th>\n",
       "      <th>bytes</th>\n",
       "      <th>uid</th>\n",
       "      <th>device</th>\n",
       "      <th>apid</th>\n",
       "      <th>bldgid</th>\n",
       "    </tr>\n",
       "  </thead>\n",
       "  <tbody>\n",
       "    <tr>\n",
       "      <th>0</th>\n",
       "      <td>19</td>\n",
       "      <td>901</td>\n",
       "      <td>1094081829</td>\n",
       "      <td>2678</td>\n",
       "      <td>72010</td>\n",
       "      <td>f</td>\n",
       "      <td>4</td>\n",
       "      <td>1</td>\n",
       "    </tr>\n",
       "    <tr>\n",
       "      <th>1</th>\n",
       "      <td>19</td>\n",
       "      <td>901</td>\n",
       "      <td>135583052</td>\n",
       "      <td>949018</td>\n",
       "      <td>53787</td>\n",
       "      <td>c</td>\n",
       "      <td>2</td>\n",
       "      <td>1</td>\n",
       "    </tr>\n",
       "    <tr>\n",
       "      <th>2</th>\n",
       "      <td>19</td>\n",
       "      <td>900</td>\n",
       "      <td>-952396312</td>\n",
       "      <td>165868</td>\n",
       "      <td>72010</td>\n",
       "      <td>f</td>\n",
       "      <td>4</td>\n",
       "      <td>1</td>\n",
       "    </tr>\n",
       "    <tr>\n",
       "      <th>3</th>\n",
       "      <td>19</td>\n",
       "      <td>1403</td>\n",
       "      <td>1121752331</td>\n",
       "      <td>6382416</td>\n",
       "      <td>72010</td>\n",
       "      <td>f</td>\n",
       "      <td>5</td>\n",
       "      <td>1</td>\n",
       "    </tr>\n",
       "    <tr>\n",
       "      <th>4</th>\n",
       "      <td>19</td>\n",
       "      <td>1000</td>\n",
       "      <td>1249764860</td>\n",
       "      <td>4296</td>\n",
       "      <td>53787</td>\n",
       "      <td>c</td>\n",
       "      <td>2</td>\n",
       "      <td>1</td>\n",
       "    </tr>\n",
       "  </tbody>\n",
       "</table>\n",
       "</div>"
      ],
      "text/plain": [
       "   day  bucket          ip    bytes    uid device  apid  bldgid\n",
       "0   19     901  1094081829     2678  72010      f     4       1\n",
       "1   19     901   135583052   949018  53787      c     2       1\n",
       "2   19     900  -952396312   165868  72010      f     4       1\n",
       "3   19    1403  1121752331  6382416  72010      f     5       1\n",
       "4   19    1000  1249764860     4296  53787      c     2       1"
      ]
     },
     "execution_count": 10,
     "metadata": {},
     "output_type": "execute_result"
    }
   ],
   "source": [
    "df.head()"
   ]
  },
  {
   "cell_type": "markdown",
   "metadata": {},
   "source": [
    "#### Explanation of columns in encounter profiles:"
   ]
  },
  {
   "cell_type": "markdown",
   "metadata": {},
   "source": [
    "|  Column name \t|                Description                \t|\n",
    "|:------------:\t|:-----------------------------------------:\t|\n",
    "|      day     \t|                day of month               \t|\n",
    "|    bucket    \t|           time bucket in the day          \t|\n",
    "|      ip      \t|            32-bit IPv4 address            \t|\n",
    "|     bytes    \t|       total bytes exchanged with ip       \t|\n",
    "|      uid     \t|                  user ID                  \t|\n",
    "|    device    \t| device type (f for Flute and c for Cello) \t|\n",
    "|     apid     \t|              access point ID              \t|\n",
    "|    bldgid    \t|                building ID                \t|"
   ]
  },
  {
   "cell_type": "markdown",
   "metadata": {},
   "source": [
    "**Create sets of flutes and cellos:**"
   ]
  },
  {
   "cell_type": "code",
   "execution_count": 11,
   "metadata": {},
   "outputs": [],
   "source": [
    "flutes = set(df[df[\"device\"] == \"f\"][\"uid\"])\n",
    "cellos = set(df[df[\"device\"] == \"c\"][\"uid\"])"
   ]
  },
  {
   "cell_type": "code",
   "execution_count": 12,
   "metadata": {},
   "outputs": [
    {
     "name": "stdout",
     "output_type": "stream",
     "text": [
      "Flutes: 884\n",
      "Cellos: 1116\n"
     ]
    }
   ],
   "source": [
    "print(\"Flutes:\", len(flutes))\n",
    "print(\"Cellos:\", len(cellos))"
   ]
  },
  {
   "cell_type": "code",
   "execution_count": 13,
   "metadata": {},
   "outputs": [
    {
     "data": {
      "text/plain": [
       "0"
      ]
     },
     "execution_count": 13,
     "metadata": {},
     "output_type": "execute_result"
    }
   ],
   "source": [
    "len(cellos.intersection(flutes))"
   ]
  },
  {
   "cell_type": "markdown",
   "metadata": {},
   "source": [
    "# Generate the TF-IDF matrix"
   ]
  },
  {
   "cell_type": "markdown",
   "metadata": {},
   "source": [
    "Create mapping from ip->index for user profiles"
   ]
  },
  {
   "cell_type": "code",
   "execution_count": 14,
   "metadata": {},
   "outputs": [],
   "source": [
    "ips = np.sort(df['ip'].unique())\n",
    "\n",
    "ip_to_index = {}\n",
    "i = 0;\n",
    "for ip in ips:\n",
    "    ip_to_index[ip] = i\n",
    "    i = i + 1"
   ]
  },
  {
   "cell_type": "code",
   "execution_count": 15,
   "metadata": {},
   "outputs": [
    {
     "name": "stdout",
     "output_type": "stream",
     "text": [
      "Number of IPs in this sample: 6118\n"
     ]
    }
   ],
   "source": [
    "print(\"Number of IPs in this sample:\", len(ips))"
   ]
  },
  {
   "cell_type": "markdown",
   "metadata": {},
   "source": [
    "#### Create user profiles i.e. a vector of bytes transferred to/from websites for each tuple:"
   ]
  },
  {
   "cell_type": "markdown",
   "metadata": {},
   "source": [
    "**Profile is create for each user, at each building, on every day**"
   ]
  },
  {
   "cell_type": "code",
   "execution_count": 16,
   "metadata": {},
   "outputs": [],
   "source": [
    "groupingKey = [\"uid\", \"bldgid\", \"day\"]"
   ]
  },
  {
   "cell_type": "code",
   "execution_count": 17,
   "metadata": {},
   "outputs": [],
   "source": [
    "grouped = df.groupby(by = groupingKey)"
   ]
  },
  {
   "cell_type": "code",
   "execution_count": 18,
   "metadata": {},
   "outputs": [
    {
     "data": {
      "text/plain": [
       "41698"
      ]
     },
     "execution_count": 18,
     "metadata": {},
     "output_type": "execute_result"
    }
   ],
   "source": [
    "len(grouped.groups)"
   ]
  },
  {
   "cell_type": "code",
   "execution_count": 19,
   "metadata": {},
   "outputs": [
    {
     "name": "stdout",
     "output_type": "stream",
     "text": [
      "n_ips 6118\n",
      "n_groups 41698\n"
     ]
    },
    {
     "data": {
      "application/vnd.jupyter.widget-view+json": {
       "model_id": "e4683249068149fbb862857471b5cf66",
       "version_major": 2,
       "version_minor": 0
      },
      "text/plain": [
       "HBox(children=(IntProgress(value=0, max=41698), HTML(value='')))"
      ]
     },
     "metadata": {},
     "output_type": "display_data"
    },
    {
     "name": "stdout",
     "output_type": "stream",
     "text": [
      "\n"
     ]
    }
   ],
   "source": [
    "## Big loop, avg ~700it/s on test machine.\n",
    "# keep track of each groupingKey->row index in the matrix.\n",
    "key2index = {}\n",
    "\n",
    "n_ips =  len(ips)\n",
    "n_groups = len(grouped.groups)\n",
    "\n",
    "print(\"n_ips\", n_ips)\n",
    "print(\"n_groups\", n_groups)\n",
    "\n",
    "# Create an empty matrix, one row for each groupingKey, one column for each IP.\n",
    "tfidf = np.zeros((n_groups, n_ips), dtype=np.float32)\n",
    "\n",
    "idx = 0\n",
    "for g in tqdm_notebook(grouped):    \n",
    "    # Populate the non-zero elements of current row.\n",
    "    for row in zip(g[1]['ip'], g[1]['bytes']):\n",
    "        tfidf[idx, ip_to_index[row[0]]] = tfidf[idx, ip_to_index[row[0]]] + row[1]\n",
    "    \n",
    "    # Create mapping from key to row idx and update idx.\n",
    "    key2index[g[0]] = idx; # g[0] corresponds to groupingKey.\n",
    "    idx = idx + 1;"
   ]
  },
  {
   "cell_type": "code",
   "execution_count": 20,
   "metadata": {},
   "outputs": [],
   "source": [
    "# Apply log\n",
    "tfidf = np.log(tfidf, where=(tfidf>0))\n",
    "tfidf = tfidf.astype(np.float32)"
   ]
  },
  {
   "cell_type": "code",
   "execution_count": 21,
   "metadata": {},
   "outputs": [
    {
     "data": {
      "text/plain": [
       "dtype('float32')"
      ]
     },
     "execution_count": 21,
     "metadata": {},
     "output_type": "execute_result"
    }
   ],
   "source": [
    "# Apply TF-IDF transformation.\n",
    "tfidf_transformer = TfidfTransformer(norm='l1')\n",
    "tfidf = tfidf_transformer.fit_transform(tfidf)\n",
    "tfidf = tfidf.astype(np.float32) # TfidfTransformer automatically changes to float64, bring it to float32 to save RAM.\n",
    "tfidf.dtype # it is now float32."
   ]
  },
  {
   "cell_type": "code",
   "execution_count": 22,
   "metadata": {
    "scrolled": true
   },
   "outputs": [
    {
     "data": {
      "text/plain": [
       "[(39, 10, 12), (39, 10, 17)]"
      ]
     },
     "execution_count": 22,
     "metadata": {},
     "output_type": "execute_result"
    }
   ],
   "source": [
    "# Some examples of the keys, 3-tuples of (user, building, day).\n",
    "list(key2index.keys())[:2]"
   ]
  },
  {
   "cell_type": "markdown",
   "metadata": {},
   "source": [
    "Convert sparse matrix to dense ndarray for easy processing with numpy."
   ]
  },
  {
   "cell_type": "code",
   "execution_count": 23,
   "metadata": {},
   "outputs": [],
   "source": [
    "# keep dense ndarray.\n",
    "tfidf = tfidf.toarray() "
   ]
  },
  {
   "cell_type": "code",
   "execution_count": 24,
   "metadata": {},
   "outputs": [
    {
     "data": {
      "text/plain": [
       "(41698, 6118)"
      ]
     },
     "execution_count": 24,
     "metadata": {},
     "output_type": "execute_result"
    }
   ],
   "source": [
    "tfidf.shape # Should be (n_groups, n_ips)."
   ]
  },
  {
   "cell_type": "markdown",
   "metadata": {},
   "source": [
    "##### Read the encounters:"
   ]
  },
  {
   "cell_type": "markdown",
   "metadata": {},
   "source": [
    "Parquet files already have **day, bucket and prefix** columns."
   ]
  },
  {
   "cell_type": "markdown",
   "metadata": {},
   "source": [
    "Read the list of encounter files, each filename is a building, each building can have multiple prefixes:"
   ]
  },
  {
   "cell_type": "code",
   "execution_count": 25,
   "metadata": {},
   "outputs": [],
   "source": [
    "encounters_dir = \"../Data/Encounters_bldgs_noTSnoAP_day_dur_parquet_FOR_PUBLIC/\""
   ]
  },
  {
   "cell_type": "code",
   "execution_count": 26,
   "metadata": {},
   "outputs": [],
   "source": [
    "encounter_files = sorted(\n",
    "    [os.path.join(encounters_dir,f) \n",
    "     for f in os.listdir(encounters_dir) if os.path.isfile(os.path.join(encounters_dir,f))])"
   ]
  },
  {
   "cell_type": "code",
   "execution_count": 27,
   "metadata": {},
   "outputs": [
    {
     "data": {
      "text/plain": [
       "['../Data/Encounters_bldgs_noTSnoAP_day_dur_parquet_FOR_PUBLIC/1.br.parquet',\n",
       " '../Data/Encounters_bldgs_noTSnoAP_day_dur_parquet_FOR_PUBLIC/100.br.parquet',\n",
       " '../Data/Encounters_bldgs_noTSnoAP_day_dur_parquet_FOR_PUBLIC/101.br.parquet',\n",
       " '../Data/Encounters_bldgs_noTSnoAP_day_dur_parquet_FOR_PUBLIC/102.br.parquet',\n",
       " '../Data/Encounters_bldgs_noTSnoAP_day_dur_parquet_FOR_PUBLIC/103.br.parquet',\n",
       " '../Data/Encounters_bldgs_noTSnoAP_day_dur_parquet_FOR_PUBLIC/104.br.parquet',\n",
       " '../Data/Encounters_bldgs_noTSnoAP_day_dur_parquet_FOR_PUBLIC/105.br.parquet',\n",
       " '../Data/Encounters_bldgs_noTSnoAP_day_dur_parquet_FOR_PUBLIC/106.br.parquet',\n",
       " '../Data/Encounters_bldgs_noTSnoAP_day_dur_parquet_FOR_PUBLIC/107.br.parquet',\n",
       " '../Data/Encounters_bldgs_noTSnoAP_day_dur_parquet_FOR_PUBLIC/108.br.parquet']"
      ]
     },
     "execution_count": 27,
     "metadata": {},
     "output_type": "execute_result"
    }
   ],
   "source": [
    "encounter_files[:10]"
   ]
  },
  {
   "cell_type": "markdown",
   "metadata": {},
   "source": [
    "##### Populate encounter pairs' stats."
   ]
  },
  {
   "cell_type": "markdown",
   "metadata": {},
   "source": [
    "Big loop, runtime ~2 minutes."
   ]
  },
  {
   "cell_type": "code",
   "execution_count": 28,
   "metadata": {},
   "outputs": [
    {
     "data": {
      "text/plain": [
       "(41698, 6118)"
      ]
     },
     "execution_count": 28,
     "metadata": {},
     "output_type": "execute_result"
    }
   ],
   "source": [
    "tfidf.shape"
   ]
  },
  {
   "cell_type": "code",
   "execution_count": 29,
   "metadata": {},
   "outputs": [
    {
     "name": "stdout",
     "output_type": "stream",
     "text": [
      "(bldg, ff, cc, fc, aa, len(enc))\n"
     ]
    },
    {
     "data": {
      "application/vnd.jupyter.widget-view+json": {
       "model_id": "edea61ab23b04817a39ca510fdf42ada",
       "version_major": 2,
       "version_minor": 0
      },
      "text/plain": [
       "HBox(children=(IntProgress(value=0, max=129), HTML(value='')))"
      ]
     },
     "metadata": {},
     "output_type": "display_data"
    },
    {
     "name": "stdout",
     "output_type": "stream",
     "text": [
      "\n",
      "CPU times: user 2min 7s, sys: 31.3 s, total: 2min 39s\n",
      "Wall time: 2min 11s\n"
     ]
    }
   ],
   "source": [
    "%%time\n",
    "encountered = {}  # u1, u2, day, bldg.\n",
    "# HashMap for Encountered pairs' stats.\n",
    "enc_cos = defaultdict(list) \n",
    "\n",
    "# Populate encounter pairs' stats.\n",
    "for f in tqdm_notebook(encounter_files):\n",
    "    gc.collect()\n",
    "    ### INPUT:\n",
    "    enc = pd.read_parquet(f, engine=\"pyarrow\")\n",
    "    # Take the filename only, remove '.br.parquet'.\n",
    "    bldg = int(f.split(\"/\")[-1][:-11])\n",
    "    ### PROCESSING:\n",
    "    ff = 0\n",
    "    cc = 0\n",
    "    fc = 0\n",
    "    aa = 0\n",
    "    # Get cosine sim stats for encountered pairs.\n",
    "    for row in zip(\n",
    "        enc[\"uid1\"], enc[\"uid2\"], enc[\"day\"], enc[\"uid1_device\"], enc[\"uid2_device\"]\n",
    "    ):\n",
    "        # Unpack the row for readability.\n",
    "        uid1 = row[0]\n",
    "        uid2 = row[1]\n",
    "        day = row[2]\n",
    "        dev1 = row[3]\n",
    "        dev2 = row[4]\n",
    "        # An encounter between u1,u2 in this day and building has already been counted, skip it.\n",
    "        memo_key = str(uid1) + \"#\" + str(uid2) + \"#\" + str(day) + \"#\" + str(bldg)\n",
    "        if memo_key in encountered:\n",
    "            continue\n",
    "\n",
    "        # Determine device types, devType is a number from 0 to 3.\n",
    "        if dev1 == \"f\" and dev2 == \"f\":  # (flute, flute) case.\n",
    "            devType = 0\n",
    "            ff += 1\n",
    "        elif dev1 == \"c\" and dev2 == \"c\":  # (cellos, cellos) case.\n",
    "            devType = 1\n",
    "            cc += 1\n",
    "        elif (dev1 == \"f\" and dev2 == \"c\") or (\n",
    "            dev1 == \"c\" and dev2 == \"f\"\n",
    "        ):  # (f, c) or (c, f)\n",
    "            devType = 2\n",
    "            fc += 1\n",
    "        else:  # One or both devices are neither in cellos nor flutes (any, any), shouldn't happen in sample.\n",
    "            devType = 3\n",
    "            aa += 1\n",
    "\n",
    "        tuple1 = (uid1, bldg, day)\n",
    "        tuple2 = (uid2, bldg, day)\n",
    "        if tuple1 in key2index and tuple2 in key2index:\n",
    "            u1 = tfidf[key2index[tuple1],]\n",
    "            u2 = tfidf[key2index[tuple2],]\n",
    "\n",
    "            enc_cos[(bldg, day, devType)].append(getCosineSim(u1, u2))\n",
    "            encountered[memo_key] = True"
   ]
  },
  {
   "cell_type": "code",
   "execution_count": 30,
   "metadata": {},
   "outputs": [],
   "source": [
    "all_users = sorted(df[\"uid\"].unique())\n",
    "uc = len(all_users) # user count.\n",
    "days = sorted(df[\"day\"].unique())"
   ]
  },
  {
   "cell_type": "markdown",
   "metadata": {},
   "source": [
    "##### Populate non-encountered pairs' stats."
   ]
  },
  {
   "cell_type": "code",
   "execution_count": 31,
   "metadata": {},
   "outputs": [
    {
     "data": {
      "application/vnd.jupyter.widget-view+json": {
       "model_id": "a933daa5560e4a3690b3f56622ccb44e",
       "version_major": 2,
       "version_minor": 0
      },
      "text/plain": [
       "HBox(children=(IntProgress(value=0, max=129), HTML(value='')))"
      ]
     },
     "metadata": {},
     "output_type": "display_data"
    },
    {
     "name": "stdout",
     "output_type": "stream",
     "text": [
      "\n",
      "CPU times: user 41.7 s, sys: 141 ms, total: 41.9 s\n",
      "Wall time: 41.9 s\n"
     ]
    }
   ],
   "source": [
    "%%time\n",
    "# HashMap for All (non-encountered) pairs' stats.\n",
    "not_enc_cos = defaultdict(list)\n",
    "\n",
    "# Populate non-encountered pairs' stats.\n",
    "for f in tqdm_notebook(encounter_files):\n",
    "    # Take the filename only, remove '.br.parquet'.\n",
    "    bldg = int(f.split(\"/\")[-1][:-11])\n",
    "    for day in days:\n",
    "        ss = 0; ll = 0; sl = 0; aa = 0;\n",
    "        for i in range(0, uc):\n",
    "            tuple1 = (all_users[i], bldg, day)\n",
    "            if tuple1 in key2index:\n",
    "                u1 = tfidf[key2index[tuple1], ]\n",
    "                for j in range(i+1, uc):\n",
    "                    tuple2 = (all_users[j], bldg, day)\n",
    "                    if tuple2 in key2index:\n",
    "                        u2 = tfidf[key2index[tuple2], ]\n",
    "                        # If u1, u2 have NOT encountered in this day and building\n",
    "                        uid1 = all_users[i]\n",
    "                        uid2 = all_users[j]\n",
    "                        memo_key = str(uid1) + \"#\" + str(uid2) + \"#\" + str(day) + \"#\" + str(bldg)\n",
    "                        if memo_key not in encountered:\n",
    "                            # Determine device types.\n",
    "                            if (uid1 in flutes and uid2 in flutes): # (f, f) case.\n",
    "                                devType = 0;\n",
    "                                ss += 1\n",
    "                            elif (uid1 in cellos and uid2 in cellos): # (c, c) case.\n",
    "                                devType = 1;\n",
    "                                ll += 1\n",
    "                            elif ( (uid1 in flutes and uid2 in cellos) or (uid1 in cellos and uid2 in flutes) ): # (f, c) or (c, f)\n",
    "                                devType = 2;\n",
    "                                sl += 1\n",
    "                            else: # One or both devices are neither in flutes nor cellos.\n",
    "                                devType = 3;\n",
    "                                aa += 1\n",
    "                            # Update the according key.    \n",
    "                            key = (bldg, day, devType)\n",
    "                            not_enc_cos[key].append(getCosineSim(u1, u2))\n"
   ]
  },
  {
   "cell_type": "markdown",
   "metadata": {},
   "source": [
    "##### Turn both stats into dataframes for ease of filtering:"
   ]
  },
  {
   "cell_type": "code",
   "execution_count": 32,
   "metadata": {},
   "outputs": [
    {
     "data": {
      "text/html": [
       "<div>\n",
       "<style scoped>\n",
       "    .dataframe tbody tr th:only-of-type {\n",
       "        vertical-align: middle;\n",
       "    }\n",
       "\n",
       "    .dataframe tbody tr th {\n",
       "        vertical-align: top;\n",
       "    }\n",
       "\n",
       "    .dataframe thead th {\n",
       "        text-align: right;\n",
       "    }\n",
       "</style>\n",
       "<table border=\"1\" class=\"dataframe\">\n",
       "  <thead>\n",
       "    <tr style=\"text-align: right;\">\n",
       "      <th></th>\n",
       "      <th>name</th>\n",
       "      <th>day</th>\n",
       "      <th>devType</th>\n",
       "      <th>cos_sims_list</th>\n",
       "    </tr>\n",
       "  </thead>\n",
       "  <tbody>\n",
       "    <tr>\n",
       "      <th>0</th>\n",
       "      <td>1</td>\n",
       "      <td>11</td>\n",
       "      <td>1</td>\n",
       "      <td>[0.014423125]</td>\n",
       "    </tr>\n",
       "    <tr>\n",
       "      <th>1</th>\n",
       "      <td>1</td>\n",
       "      <td>24</td>\n",
       "      <td>1</td>\n",
       "      <td>[0.08345036]</td>\n",
       "    </tr>\n",
       "    <tr>\n",
       "      <th>2</th>\n",
       "      <td>1</td>\n",
       "      <td>10</td>\n",
       "      <td>1</td>\n",
       "      <td>[0.0, 0.11313414]</td>\n",
       "    </tr>\n",
       "    <tr>\n",
       "      <th>3</th>\n",
       "      <td>1</td>\n",
       "      <td>19</td>\n",
       "      <td>1</td>\n",
       "      <td>[0.054598715]</td>\n",
       "    </tr>\n",
       "    <tr>\n",
       "      <th>4</th>\n",
       "      <td>1</td>\n",
       "      <td>23</td>\n",
       "      <td>1</td>\n",
       "      <td>[0.22902693]</td>\n",
       "    </tr>\n",
       "  </tbody>\n",
       "</table>\n",
       "</div>"
      ],
      "text/plain": [
       "   name  day  devType      cos_sims_list\n",
       "0     1   11        1      [0.014423125]\n",
       "1     1   24        1       [0.08345036]\n",
       "2     1   10        1  [0.0, 0.11313414]\n",
       "3     1   19        1      [0.054598715]\n",
       "4     1   23        1       [0.22902693]"
      ]
     },
     "execution_count": 32,
     "metadata": {},
     "output_type": "execute_result"
    }
   ],
   "source": [
    "keys_0 = [key[0] for key in enc_cos.keys()]\n",
    "keys_1 = [key[1] for key in enc_cos.keys()]\n",
    "keys_2 = [key[2] for key in enc_cos.keys()]\n",
    "vals = [val for val in enc_cos.values()]\n",
    "enc_df = pd.DataFrame({'name': keys_0, 'day': keys_1, 'devType': keys_2, 'cos_sims_list': vals})\n",
    "enc_df.head()"
   ]
  },
  {
   "cell_type": "code",
   "execution_count": 33,
   "metadata": {},
   "outputs": [
    {
     "data": {
      "text/html": [
       "<div>\n",
       "<style scoped>\n",
       "    .dataframe tbody tr th:only-of-type {\n",
       "        vertical-align: middle;\n",
       "    }\n",
       "\n",
       "    .dataframe tbody tr th {\n",
       "        vertical-align: top;\n",
       "    }\n",
       "\n",
       "    .dataframe thead th {\n",
       "        text-align: right;\n",
       "    }\n",
       "</style>\n",
       "<table border=\"1\" class=\"dataframe\">\n",
       "  <thead>\n",
       "    <tr style=\"text-align: right;\">\n",
       "      <th></th>\n",
       "      <th>name</th>\n",
       "      <th>day</th>\n",
       "      <th>devType</th>\n",
       "      <th>cos_sims_list</th>\n",
       "    </tr>\n",
       "  </thead>\n",
       "  <tbody>\n",
       "    <tr>\n",
       "      <th>0</th>\n",
       "      <td>1</td>\n",
       "      <td>6</td>\n",
       "      <td>1</td>\n",
       "      <td>[0.0]</td>\n",
       "    </tr>\n",
       "    <tr>\n",
       "      <th>1</th>\n",
       "      <td>1</td>\n",
       "      <td>6</td>\n",
       "      <td>2</td>\n",
       "      <td>[0.020571439, 0.020069953, 0.0, 0.0]</td>\n",
       "    </tr>\n",
       "    <tr>\n",
       "      <th>2</th>\n",
       "      <td>1</td>\n",
       "      <td>6</td>\n",
       "      <td>0</td>\n",
       "      <td>[0.18170688]</td>\n",
       "    </tr>\n",
       "    <tr>\n",
       "      <th>3</th>\n",
       "      <td>1</td>\n",
       "      <td>7</td>\n",
       "      <td>0</td>\n",
       "      <td>[0.0]</td>\n",
       "    </tr>\n",
       "    <tr>\n",
       "      <th>4</th>\n",
       "      <td>1</td>\n",
       "      <td>9</td>\n",
       "      <td>1</td>\n",
       "      <td>[0.1277339, 0.018610274]</td>\n",
       "    </tr>\n",
       "  </tbody>\n",
       "</table>\n",
       "</div>"
      ],
      "text/plain": [
       "   name  day  devType                         cos_sims_list\n",
       "0     1    6        1                                 [0.0]\n",
       "1     1    6        2  [0.020571439, 0.020069953, 0.0, 0.0]\n",
       "2     1    6        0                          [0.18170688]\n",
       "3     1    7        0                                 [0.0]\n",
       "4     1    9        1              [0.1277339, 0.018610274]"
      ]
     },
     "execution_count": 33,
     "metadata": {},
     "output_type": "execute_result"
    }
   ],
   "source": [
    "keys_0 = [key[0] for key in not_enc_cos.keys()]\n",
    "keys_1 = [key[1] for key in not_enc_cos.keys()]\n",
    "keys_2 = [key[2] for key in not_enc_cos.keys()]\n",
    "vals = [val for val in not_enc_cos.values()]\n",
    "not_enc_df = pd.DataFrame({'name': keys_0, 'day': keys_1, 'devType': keys_2, 'cos_sims_list': vals})\n",
    "not_enc_df.head()"
   ]
  },
  {
   "cell_type": "code",
   "execution_count": 34,
   "metadata": {},
   "outputs": [
    {
     "data": {
      "text/plain": [
       "array([1, 2, 0])"
      ]
     },
     "execution_count": 34,
     "metadata": {},
     "output_type": "execute_result"
    }
   ],
   "source": [
    "enc_df.devType.unique()"
   ]
  },
  {
   "cell_type": "code",
   "execution_count": 35,
   "metadata": {},
   "outputs": [
    {
     "name": "stdout",
     "output_type": "stream",
     "text": [
      "#keys in enc group: 2586\n"
     ]
    }
   ],
   "source": [
    "print(\"#keys in enc group:\", len(enc_cos))"
   ]
  },
  {
   "cell_type": "code",
   "execution_count": 36,
   "metadata": {},
   "outputs": [
    {
     "name": "stdout",
     "output_type": "stream",
     "text": [
      "#keys in not_enc group: 4942\n"
     ]
    }
   ],
   "source": [
    "print(\"#keys in not_enc group:\", len(not_enc_cos))"
   ]
  },
  {
   "cell_type": "code",
   "execution_count": 37,
   "metadata": {},
   "outputs": [],
   "source": [
    "intersect = set(not_enc_cos.keys()).intersection(set(enc_cos.keys()))"
   ]
  },
  {
   "cell_type": "code",
   "execution_count": 38,
   "metadata": {},
   "outputs": [
    {
     "name": "stdout",
     "output_type": "stream",
     "text": [
      "#keys shared between enc & not_enc: 2496\n"
     ]
    }
   ],
   "source": [
    "print(\"#keys shared between enc & not_enc:\", len(intersect))"
   ]
  },
  {
   "cell_type": "markdown",
   "metadata": {},
   "source": [
    "# Compare average cosine similarity:"
   ]
  },
  {
   "cell_type": "code",
   "execution_count": 39,
   "metadata": {},
   "outputs": [],
   "source": [
    "results = {}"
   ]
  },
  {
   "cell_type": "code",
   "execution_count": 40,
   "metadata": {},
   "outputs": [],
   "source": [
    "# For every building, day:\n",
    "for key in intersect:\n",
    "    enc = np.array(enc_cos[key])\n",
    "    nenc = np.array(not_enc_cos[key])\n",
    "    results[key] = (np.mean(enc), np.mean(nenc))"
   ]
  },
  {
   "cell_type": "code",
   "execution_count": 41,
   "metadata": {},
   "outputs": [
    {
     "name": "stdout",
     "output_type": "stream",
     "text": [
      "#WEEKDAY keys: 2200\n",
      "%WEEKDAY keys where avg(enc) > avg(nenc): 0.7172727272727273\n",
      "#WEEKEND keys: 296\n",
      "%WEEKEND keys where avg(enc) > avg(nenc): 0.6790540540540541\n"
     ]
    }
   ],
   "source": [
    "bigger_count_wd = 0\n",
    "count_wd = 0\n",
    "bigger_count_we = 0\n",
    "count_we = 0\n",
    "\n",
    "for k, v in results.items():\n",
    "    if (k[1] in wd):\n",
    "        count_wd += 1;\n",
    "    elif (k[1] in we):\n",
    "        count_we += 1;\n",
    "        \n",
    "    if v[0] >= v[1]:\n",
    "        if (k[1] in wd):\n",
    "            bigger_count_wd += 1\n",
    "        elif (k[1] in we):\n",
    "            bigger_count_we += 1\n",
    "\n",
    "print(\"#WEEKDAY keys:\", count_wd)\n",
    "print(\"%WEEKDAY keys where avg(enc) > avg(nenc):\", bigger_count_wd/count_wd)\n",
    "print(\"#WEEKEND keys:\", count_we)\n",
    "print(\"%WEEKEND keys where avg(enc) > avg(nenc):\", bigger_count_we/count_we)"
   ]
  },
  {
   "cell_type": "code",
   "execution_count": 42,
   "metadata": {},
   "outputs": [
    {
     "name": "stdout",
     "output_type": "stream",
     "text": [
      "(56, 12, 0) 65 341\n",
      "(108, 20, 0) 50 1490\n",
      "(108, 9, 0) 144 3342\n",
      "(85, 25, 2) 21 1079\n",
      "(85, 11, 2) 60 909\n",
      "(136, 11, 2) 31 299\n",
      "(56, 16, 0) 83 478\n",
      "(66, 14, 2) 68 752\n",
      "(57, 11, 2) 41 871\n",
      "(66, 7, 2) 75 783\n",
      "(136, 17, 2) 42 332\n",
      "(66, 12, 0) 208 5357\n",
      "(75, 11, 2) 28 227\n",
      "(69, 16, 0) 87 1929\n",
      "(112, 23, 2) 25 171\n",
      "(17, 12, 2) 23 1498\n",
      "(108, 21, 2) 54 659\n",
      "(136, 20, 2) 32 276\n",
      "(69, 15, 0) 28 378\n",
      "(116, 18, 2) 58 742\n",
      "(108, 20, 2) 169 3863\n",
      "(56, 10, 0) 58 377\n",
      "(56, 21, 2) 159 948\n",
      "(108, 11, 0) 121 3039\n",
      "(66, 7, 0) 33 198\n",
      "(136, 12, 1) 44 256\n",
      "(56, 18, 0) 88 507\n",
      "(136, 9, 2) 25 339\n",
      "(69, 12, 0) 69 1059\n",
      "(56, 9, 0) 99 397\n",
      "(69, 14, 2) 25 285\n",
      "(56, 22, 0) 187 633\n",
      "(126, 10, 2) 25 1460\n",
      "(136, 13, 2) 26 230\n",
      "(66, 10, 0) 270 7731\n",
      "(56, 15, 2) 93 519\n",
      "(66, 16, 0) 389 9622\n",
      "(108, 10, 0) 171 3232\n",
      "(69, 15, 2) 121 1387\n",
      "(116, 25, 2) 29 499\n",
      "(116, 18, 0) 27 469\n",
      "(56, 17, 0) 75 555\n",
      "(14, 18, 2) 22 170\n",
      "(90, 24, 1) 24 67\n",
      "(116, 9, 0) 22 443\n",
      "(136, 18, 2) 20 279\n",
      "(56, 21, 0) 46 305\n",
      "(53, 13, 1) 24 112\n",
      "(69, 9, 0) 117 2028\n"
     ]
    }
   ],
   "source": [
    "# What if we ONLY CONSIDER AN ITEM WHEN THERE ARE > n_min_count values in the cos list.\n",
    "from collections import defaultdict \n",
    "count_days_bigger_per_bldg = {}\n",
    "days_bigger_per_bldg = defaultdict(list)\n",
    "\n",
    "bigger_count = 0\n",
    "total_count = 0 \n",
    "for k, v in results.items():\n",
    "    # IGNORE IF NOT ENOUGH SAMPLES.\n",
    "    enc = np.array(enc_cos[k])\n",
    "    nenc = np.array(not_enc_cos[k])\n",
    "    if len(enc) < n_min_count or len(nenc) < n_min_count:\n",
    "        continue;\n",
    "    # IGNORE IF NOT IN OUR WD/WE RANGE.\n",
    "    if k[1] not in wd and k[1] not in we:\n",
    "        continue;\n",
    "        \n",
    "    if v[0] >= v[1]:\n",
    "        bigger_count += 1\n",
    "        count_days_bigger_per_bldg[k[0]] = count_days_bigger_per_bldg.get(k[0], 0) + 1;\n",
    "        days_bigger_per_bldg[k[0]].append(k[1])\n",
    "    else:\n",
    "        print(k , len(enc), len(nenc))\n",
    "    total_count += 1;"
   ]
  },
  {
   "cell_type": "code",
   "execution_count": 43,
   "metadata": {},
   "outputs": [
    {
     "name": "stdout",
     "output_type": "stream",
     "text": [
      "Percentage of keys where average similarity of encountered is higher than non-encountered: \n",
      " 0.8932461873638344 \n",
      " (this ignores the cases where there are less than n_min_count samples)\n"
     ]
    }
   ],
   "source": [
    "print(\n",
    "    \"Percentage of keys where average similarity of encountered is higher than non-encountered: \\n\",\n",
    "    bigger_count / total_count,\n",
    "    \"\\n (this ignores the cases where there are less than n_min_count samples)\"\n",
    ")"
   ]
  },
  {
   "cell_type": "code",
   "execution_count": 44,
   "metadata": {},
   "outputs": [
    {
     "name": "stdout",
     "output_type": "stream",
     "text": [
      "with both enc/nenc at least n_min_count=20 samples:\n",
      "#WEEKDAY keys: 397\n",
      "%WEEKDAY keys where avg(enc) > avg(nenc): 0.9042821158690176\n",
      "#WEEKEND keys: 62\n",
      "%WEEKEND keys where avg(enc) > avg(nenc): 0.8225806451612904\n"
     ]
    }
   ],
   "source": [
    "bigger_count_wd = 0\n",
    "count_wd = 0\n",
    "bigger_count_we = 0\n",
    "count_we = 0\n",
    "\n",
    "for k, v in results.items():\n",
    "    enc = np.array(enc_cos[k])\n",
    "    nenc = np.array(not_enc_cos[k])\n",
    "    if len(enc) < n_min_count or len(nenc) < n_min_count:\n",
    "        continue;\n",
    "    # IGNORE IF NOT IN OUR WD/WE RANGE.\n",
    "    if k[1] not in wd and k[1] not in we:\n",
    "        continue;\n",
    "        \n",
    "    if (k[1] in wd):\n",
    "        count_wd += 1;\n",
    "    elif (k[1] in we):\n",
    "        count_we += 1;\n",
    "        \n",
    "    if v[0] >= v[1]:\n",
    "        if (k[1] in wd):\n",
    "            bigger_count_wd += 1\n",
    "        elif (k[1] in we):\n",
    "            bigger_count_we += 1\n",
    "\n",
    "print(\"with both enc/nenc at least n_min_count=\" + str(n_min_count) +  \" samples:\")\n",
    "print(\"#WEEKDAY keys:\", count_wd)\n",
    "print(\"%WEEKDAY keys where avg(enc) > avg(nenc):\", bigger_count_wd/count_wd)\n",
    "print(\"#WEEKEND keys:\", count_we)\n",
    "print(\"%WEEKEND keys where avg(enc) > avg(nenc):\", bigger_count_we/count_we)"
   ]
  },
  {
   "cell_type": "markdown",
   "metadata": {},
   "source": [
    "# Separate different devTypes "
   ]
  },
  {
   "cell_type": "markdown",
   "metadata": {},
   "source": [
    "(f, f) -> 0, (c, c) -> 1, (f, c) -> 2, at least one device is unclassified -> 3"
   ]
  },
  {
   "cell_type": "code",
   "execution_count": 45,
   "metadata": {},
   "outputs": [],
   "source": [
    "def getAverageOfList(l):\n",
    "    return sum(l)/len(l)"
   ]
  },
  {
   "cell_type": "code",
   "execution_count": 46,
   "metadata": {},
   "outputs": [
    {
     "name": "stdout",
     "output_type": "stream",
     "text": [
      "CPU times: user 641 ms, sys: 0 ns, total: 641 ms\n",
      "Wall time: 643 ms\n"
     ]
    }
   ],
   "source": [
    "%%time\n",
    "enc_df['avg_cos'] = enc_df.cos_sims_list.apply(getAverageOfList)\n",
    "not_enc_df['avg_cos'] = not_enc_df.cos_sims_list.apply(getAverageOfList)\n",
    "\n",
    "enc_df['med_cos'] = enc_df.cos_sims_list.apply(np.median)\n",
    "not_enc_df['med_cos'] = not_enc_df.cos_sims_list.apply(np.median)"
   ]
  },
  {
   "cell_type": "code",
   "execution_count": 47,
   "metadata": {},
   "outputs": [
    {
     "data": {
      "text/html": [
       "<div>\n",
       "<style scoped>\n",
       "    .dataframe tbody tr th:only-of-type {\n",
       "        vertical-align: middle;\n",
       "    }\n",
       "\n",
       "    .dataframe tbody tr th {\n",
       "        vertical-align: top;\n",
       "    }\n",
       "\n",
       "    .dataframe thead th {\n",
       "        text-align: right;\n",
       "    }\n",
       "</style>\n",
       "<table border=\"1\" class=\"dataframe\">\n",
       "  <thead>\n",
       "    <tr style=\"text-align: right;\">\n",
       "      <th></th>\n",
       "      <th>name</th>\n",
       "      <th>day</th>\n",
       "      <th>devType</th>\n",
       "      <th>cos_sims_list</th>\n",
       "      <th>avg_cos</th>\n",
       "      <th>med_cos</th>\n",
       "    </tr>\n",
       "  </thead>\n",
       "  <tbody>\n",
       "    <tr>\n",
       "      <th>0</th>\n",
       "      <td>1</td>\n",
       "      <td>11</td>\n",
       "      <td>1</td>\n",
       "      <td>[0.014423125]</td>\n",
       "      <td>0.014423</td>\n",
       "      <td>0.014423</td>\n",
       "    </tr>\n",
       "    <tr>\n",
       "      <th>1</th>\n",
       "      <td>1</td>\n",
       "      <td>24</td>\n",
       "      <td>1</td>\n",
       "      <td>[0.08345036]</td>\n",
       "      <td>0.083450</td>\n",
       "      <td>0.083450</td>\n",
       "    </tr>\n",
       "    <tr>\n",
       "      <th>2</th>\n",
       "      <td>1</td>\n",
       "      <td>10</td>\n",
       "      <td>1</td>\n",
       "      <td>[0.0, 0.11313414]</td>\n",
       "      <td>0.056567</td>\n",
       "      <td>0.056567</td>\n",
       "    </tr>\n",
       "    <tr>\n",
       "      <th>3</th>\n",
       "      <td>1</td>\n",
       "      <td>19</td>\n",
       "      <td>1</td>\n",
       "      <td>[0.054598715]</td>\n",
       "      <td>0.054599</td>\n",
       "      <td>0.054599</td>\n",
       "    </tr>\n",
       "    <tr>\n",
       "      <th>4</th>\n",
       "      <td>1</td>\n",
       "      <td>23</td>\n",
       "      <td>1</td>\n",
       "      <td>[0.22902693]</td>\n",
       "      <td>0.229027</td>\n",
       "      <td>0.229027</td>\n",
       "    </tr>\n",
       "  </tbody>\n",
       "</table>\n",
       "</div>"
      ],
      "text/plain": [
       "   name  day  devType      cos_sims_list   avg_cos   med_cos\n",
       "0     1   11        1      [0.014423125]  0.014423  0.014423\n",
       "1     1   24        1       [0.08345036]  0.083450  0.083450\n",
       "2     1   10        1  [0.0, 0.11313414]  0.056567  0.056567\n",
       "3     1   19        1      [0.054598715]  0.054599  0.054599\n",
       "4     1   23        1       [0.22902693]  0.229027  0.229027"
      ]
     },
     "execution_count": 47,
     "metadata": {},
     "output_type": "execute_result"
    }
   ],
   "source": [
    "enc_df.head()"
   ]
  },
  {
   "cell_type": "code",
   "execution_count": 48,
   "metadata": {},
   "outputs": [],
   "source": [
    "ff_enc = enc_df[enc_df.devType==0]\n",
    "cc_enc = enc_df[enc_df.devType==1]\n",
    "fc_enc = enc_df[enc_df.devType==2]\n",
    "aa_enc = enc_df[enc_df.devType==3]"
   ]
  },
  {
   "cell_type": "code",
   "execution_count": 49,
   "metadata": {},
   "outputs": [
    {
     "data": {
      "text/html": [
       "<div>\n",
       "<style scoped>\n",
       "    .dataframe tbody tr th:only-of-type {\n",
       "        vertical-align: middle;\n",
       "    }\n",
       "\n",
       "    .dataframe tbody tr th {\n",
       "        vertical-align: top;\n",
       "    }\n",
       "\n",
       "    .dataframe thead th {\n",
       "        text-align: right;\n",
       "    }\n",
       "</style>\n",
       "<table border=\"1\" class=\"dataframe\">\n",
       "  <thead>\n",
       "    <tr style=\"text-align: right;\">\n",
       "      <th></th>\n",
       "      <th>name</th>\n",
       "      <th>day</th>\n",
       "      <th>devType</th>\n",
       "      <th>avg_cos</th>\n",
       "      <th>med_cos</th>\n",
       "    </tr>\n",
       "  </thead>\n",
       "  <tbody>\n",
       "    <tr>\n",
       "      <th>count</th>\n",
       "      <td>806.000000</td>\n",
       "      <td>806.000000</td>\n",
       "      <td>806.0</td>\n",
       "      <td>806.000000</td>\n",
       "      <td>806.000000</td>\n",
       "    </tr>\n",
       "    <tr>\n",
       "      <th>mean</th>\n",
       "      <td>67.748139</td>\n",
       "      <td>16.495037</td>\n",
       "      <td>0.0</td>\n",
       "      <td>0.129307</td>\n",
       "      <td>0.121055</td>\n",
       "    </tr>\n",
       "    <tr>\n",
       "      <th>std</th>\n",
       "      <td>40.656658</td>\n",
       "      <td>5.289563</td>\n",
       "      <td>0.0</td>\n",
       "      <td>0.091984</td>\n",
       "      <td>0.097935</td>\n",
       "    </tr>\n",
       "    <tr>\n",
       "      <th>min</th>\n",
       "      <td>1.000000</td>\n",
       "      <td>7.000000</td>\n",
       "      <td>0.0</td>\n",
       "      <td>0.000000</td>\n",
       "      <td>0.000000</td>\n",
       "    </tr>\n",
       "    <tr>\n",
       "      <th>25%</th>\n",
       "      <td>35.000000</td>\n",
       "      <td>12.000000</td>\n",
       "      <td>0.0</td>\n",
       "      <td>0.068835</td>\n",
       "      <td>0.050241</td>\n",
       "    </tr>\n",
       "    <tr>\n",
       "      <th>50%</th>\n",
       "      <td>65.000000</td>\n",
       "      <td>17.000000</td>\n",
       "      <td>0.0</td>\n",
       "      <td>0.117533</td>\n",
       "      <td>0.106853</td>\n",
       "    </tr>\n",
       "    <tr>\n",
       "      <th>75%</th>\n",
       "      <td>108.000000</td>\n",
       "      <td>20.000000</td>\n",
       "      <td>0.0</td>\n",
       "      <td>0.175934</td>\n",
       "      <td>0.175252</td>\n",
       "    </tr>\n",
       "    <tr>\n",
       "      <th>max</th>\n",
       "      <td>138.000000</td>\n",
       "      <td>25.000000</td>\n",
       "      <td>0.0</td>\n",
       "      <td>0.866668</td>\n",
       "      <td>0.866668</td>\n",
       "    </tr>\n",
       "  </tbody>\n",
       "</table>\n",
       "</div>"
      ],
      "text/plain": [
       "             name         day  devType     avg_cos     med_cos\n",
       "count  806.000000  806.000000    806.0  806.000000  806.000000\n",
       "mean    67.748139   16.495037      0.0    0.129307    0.121055\n",
       "std     40.656658    5.289563      0.0    0.091984    0.097935\n",
       "min      1.000000    7.000000      0.0    0.000000    0.000000\n",
       "25%     35.000000   12.000000      0.0    0.068835    0.050241\n",
       "50%     65.000000   17.000000      0.0    0.117533    0.106853\n",
       "75%    108.000000   20.000000      0.0    0.175934    0.175252\n",
       "max    138.000000   25.000000      0.0    0.866668    0.866668"
      ]
     },
     "execution_count": 49,
     "metadata": {},
     "output_type": "execute_result"
    }
   ],
   "source": [
    "ff_enc.describe()"
   ]
  },
  {
   "cell_type": "code",
   "execution_count": 50,
   "metadata": {},
   "outputs": [
    {
     "data": {
      "text/html": [
       "<div>\n",
       "<style scoped>\n",
       "    .dataframe tbody tr th:only-of-type {\n",
       "        vertical-align: middle;\n",
       "    }\n",
       "\n",
       "    .dataframe tbody tr th {\n",
       "        vertical-align: top;\n",
       "    }\n",
       "\n",
       "    .dataframe thead th {\n",
       "        text-align: right;\n",
       "    }\n",
       "</style>\n",
       "<table border=\"1\" class=\"dataframe\">\n",
       "  <thead>\n",
       "    <tr style=\"text-align: right;\">\n",
       "      <th></th>\n",
       "      <th>name</th>\n",
       "      <th>day</th>\n",
       "      <th>devType</th>\n",
       "      <th>avg_cos</th>\n",
       "      <th>med_cos</th>\n",
       "    </tr>\n",
       "  </thead>\n",
       "  <tbody>\n",
       "    <tr>\n",
       "      <th>count</th>\n",
       "      <td>798.000000</td>\n",
       "      <td>798.000000</td>\n",
       "      <td>798.0</td>\n",
       "      <td>798.000000</td>\n",
       "      <td>798.000000</td>\n",
       "    </tr>\n",
       "    <tr>\n",
       "      <th>mean</th>\n",
       "      <td>68.192982</td>\n",
       "      <td>16.471178</td>\n",
       "      <td>1.0</td>\n",
       "      <td>0.156878</td>\n",
       "      <td>0.150991</td>\n",
       "    </tr>\n",
       "    <tr>\n",
       "      <th>std</th>\n",
       "      <td>39.039154</td>\n",
       "      <td>5.293972</td>\n",
       "      <td>0.0</td>\n",
       "      <td>0.072649</td>\n",
       "      <td>0.075009</td>\n",
       "    </tr>\n",
       "    <tr>\n",
       "      <th>min</th>\n",
       "      <td>1.000000</td>\n",
       "      <td>7.000000</td>\n",
       "      <td>1.0</td>\n",
       "      <td>0.000000</td>\n",
       "      <td>0.000000</td>\n",
       "    </tr>\n",
       "    <tr>\n",
       "      <th>25%</th>\n",
       "      <td>38.000000</td>\n",
       "      <td>12.000000</td>\n",
       "      <td>1.0</td>\n",
       "      <td>0.112528</td>\n",
       "      <td>0.102905</td>\n",
       "    </tr>\n",
       "    <tr>\n",
       "      <th>50%</th>\n",
       "      <td>66.000000</td>\n",
       "      <td>17.000000</td>\n",
       "      <td>1.0</td>\n",
       "      <td>0.157003</td>\n",
       "      <td>0.150203</td>\n",
       "    </tr>\n",
       "    <tr>\n",
       "      <th>75%</th>\n",
       "      <td>105.000000</td>\n",
       "      <td>21.000000</td>\n",
       "      <td>1.0</td>\n",
       "      <td>0.197627</td>\n",
       "      <td>0.196787</td>\n",
       "    </tr>\n",
       "    <tr>\n",
       "      <th>max</th>\n",
       "      <td>138.000000</td>\n",
       "      <td>25.000000</td>\n",
       "      <td>1.0</td>\n",
       "      <td>0.496649</td>\n",
       "      <td>0.453578</td>\n",
       "    </tr>\n",
       "  </tbody>\n",
       "</table>\n",
       "</div>"
      ],
      "text/plain": [
       "             name         day  devType     avg_cos     med_cos\n",
       "count  798.000000  798.000000    798.0  798.000000  798.000000\n",
       "mean    68.192982   16.471178      1.0    0.156878    0.150991\n",
       "std     39.039154    5.293972      0.0    0.072649    0.075009\n",
       "min      1.000000    7.000000      1.0    0.000000    0.000000\n",
       "25%     38.000000   12.000000      1.0    0.112528    0.102905\n",
       "50%     66.000000   17.000000      1.0    0.157003    0.150203\n",
       "75%    105.000000   21.000000      1.0    0.197627    0.196787\n",
       "max    138.000000   25.000000      1.0    0.496649    0.453578"
      ]
     },
     "execution_count": 50,
     "metadata": {},
     "output_type": "execute_result"
    }
   ],
   "source": [
    "cc_enc.describe()"
   ]
  },
  {
   "cell_type": "code",
   "execution_count": 51,
   "metadata": {},
   "outputs": [
    {
     "data": {
      "text/html": [
       "<div>\n",
       "<style scoped>\n",
       "    .dataframe tbody tr th:only-of-type {\n",
       "        vertical-align: middle;\n",
       "    }\n",
       "\n",
       "    .dataframe tbody tr th {\n",
       "        vertical-align: top;\n",
       "    }\n",
       "\n",
       "    .dataframe thead th {\n",
       "        text-align: right;\n",
       "    }\n",
       "</style>\n",
       "<table border=\"1\" class=\"dataframe\">\n",
       "  <thead>\n",
       "    <tr style=\"text-align: right;\">\n",
       "      <th></th>\n",
       "      <th>name</th>\n",
       "      <th>day</th>\n",
       "      <th>devType</th>\n",
       "      <th>avg_cos</th>\n",
       "      <th>med_cos</th>\n",
       "    </tr>\n",
       "  </thead>\n",
       "  <tbody>\n",
       "    <tr>\n",
       "      <th>count</th>\n",
       "      <td>982.000000</td>\n",
       "      <td>982.000000</td>\n",
       "      <td>982.0</td>\n",
       "      <td>982.000000</td>\n",
       "      <td>982.000000</td>\n",
       "    </tr>\n",
       "    <tr>\n",
       "      <th>mean</th>\n",
       "      <td>67.728106</td>\n",
       "      <td>16.538697</td>\n",
       "      <td>2.0</td>\n",
       "      <td>0.114784</td>\n",
       "      <td>0.108104</td>\n",
       "    </tr>\n",
       "    <tr>\n",
       "      <th>std</th>\n",
       "      <td>39.812000</td>\n",
       "      <td>5.298821</td>\n",
       "      <td>0.0</td>\n",
       "      <td>0.077476</td>\n",
       "      <td>0.082395</td>\n",
       "    </tr>\n",
       "    <tr>\n",
       "      <th>min</th>\n",
       "      <td>1.000000</td>\n",
       "      <td>7.000000</td>\n",
       "      <td>2.0</td>\n",
       "      <td>0.000000</td>\n",
       "      <td>0.000000</td>\n",
       "    </tr>\n",
       "    <tr>\n",
       "      <th>25%</th>\n",
       "      <td>35.000000</td>\n",
       "      <td>12.000000</td>\n",
       "      <td>2.0</td>\n",
       "      <td>0.058763</td>\n",
       "      <td>0.045300</td>\n",
       "    </tr>\n",
       "    <tr>\n",
       "      <th>50%</th>\n",
       "      <td>66.000000</td>\n",
       "      <td>17.000000</td>\n",
       "      <td>2.0</td>\n",
       "      <td>0.114053</td>\n",
       "      <td>0.102388</td>\n",
       "    </tr>\n",
       "    <tr>\n",
       "      <th>75%</th>\n",
       "      <td>105.000000</td>\n",
       "      <td>21.000000</td>\n",
       "      <td>2.0</td>\n",
       "      <td>0.159985</td>\n",
       "      <td>0.160654</td>\n",
       "    </tr>\n",
       "    <tr>\n",
       "      <th>max</th>\n",
       "      <td>139.000000</td>\n",
       "      <td>25.000000</td>\n",
       "      <td>2.0</td>\n",
       "      <td>0.966405</td>\n",
       "      <td>0.966405</td>\n",
       "    </tr>\n",
       "  </tbody>\n",
       "</table>\n",
       "</div>"
      ],
      "text/plain": [
       "             name         day  devType     avg_cos     med_cos\n",
       "count  982.000000  982.000000    982.0  982.000000  982.000000\n",
       "mean    67.728106   16.538697      2.0    0.114784    0.108104\n",
       "std     39.812000    5.298821      0.0    0.077476    0.082395\n",
       "min      1.000000    7.000000      2.0    0.000000    0.000000\n",
       "25%     35.000000   12.000000      2.0    0.058763    0.045300\n",
       "50%     66.000000   17.000000      2.0    0.114053    0.102388\n",
       "75%    105.000000   21.000000      2.0    0.159985    0.160654\n",
       "max    139.000000   25.000000      2.0    0.966405    0.966405"
      ]
     },
     "execution_count": 51,
     "metadata": {},
     "output_type": "execute_result"
    }
   ],
   "source": [
    "fc_enc.describe()"
   ]
  },
  {
   "cell_type": "code",
   "execution_count": 52,
   "metadata": {},
   "outputs": [],
   "source": [
    "ff_nenc = not_enc_df[not_enc_df.devType==0]\n",
    "cc_nenc = not_enc_df[not_enc_df.devType==1]\n",
    "fc_nenc = not_enc_df[not_enc_df.devType==2]\n",
    "aa_nenc = not_enc_df[not_enc_df.devType==3]"
   ]
  },
  {
   "cell_type": "code",
   "execution_count": 53,
   "metadata": {},
   "outputs": [],
   "source": [
    "## Valid line styles: '-' | '--' | '-.' | ':' ,'steps' \n",
    "def cdf_plot(ser,ax=None,figsize=(7,5), label=None, fontSize = 15, lineWidth=2, lineStyle='-', ylabel='CDF'):\n",
    "    print(len(ser))\n",
    "    ser = ser.sort_values()\n",
    "    cum_dist = np.linspace(0.,1.,len(ser))\n",
    "    ser_cdf = pd.Series(cum_dist, index=ser)\n",
    "    ax = ser_cdf.plot(drawstyle='steps',figsize=figsize,yticks=np.arange(0.,1.001,0.1),ax=ax, label=label, \n",
    "                      linewidth=lineWidth, linestyle=lineStyle)\n",
    "    ## Change x axis font size\n",
    "    for tick in ax.xaxis.get_major_ticks():\n",
    "        tick.label.set_fontsize(fontSize)\n",
    "\n",
    "    ## Change y axis font size\n",
    "    for tick in ax.yaxis.get_major_ticks():\n",
    "        tick.label.set_fontsize(fontSize)\n",
    "        \n",
    "    ax.set_ylabel(ylabel, fontsize=18)    \n",
    "    return ax"
   ]
  },
  {
   "cell_type": "code",
   "execution_count": 54,
   "metadata": {},
   "outputs": [],
   "source": [
    "def plotEncAndNencAvg(enc, nenc, legend):\n",
    "    ax = cdf_plot(enc.avg_cos)\n",
    "    ax = cdf_plot(nenc.avg_cos, ax = ax)\n",
    "    ax.set_xlim([0, 0.3])\n",
    "    ax.legend(legend)\n",
    "    plt.show()"
   ]
  },
  {
   "cell_type": "code",
   "execution_count": 55,
   "metadata": {},
   "outputs": [
    {
     "name": "stdout",
     "output_type": "stream",
     "text": [
      "2586\n",
      "4942\n"
     ]
    },
    {
     "data": {
      "image/png": "[encoded data removed]",
      "text/plain": [
       "<Figure size 504x360 with 1 Axes>"
      ]
     },
     "metadata": {
      "needs_background": "light"
     },
     "output_type": "display_data"
    }
   ],
   "source": [
    "plotEncAndNencAvg(enc_df, not_enc_df, [\"enc\", \"nenc\"]);"
   ]
  },
  {
   "cell_type": "code",
   "execution_count": 56,
   "metadata": {},
   "outputs": [
    {
     "name": "stdout",
     "output_type": "stream",
     "text": [
      "806\n",
      "1628\n"
     ]
    },
    {
     "data": {
      "image/png": "[encoded data removed]",
      "text/plain": [
       "<Figure size 504x360 with 1 Axes>"
      ]
     },
     "metadata": {
      "needs_background": "light"
     },
     "output_type": "display_data"
    }
   ],
   "source": [
    "plotEncAndNencAvg(ff_enc, ff_nenc, [\"ff_enc\", \"ff_nenc\"])"
   ]
  },
  {
   "cell_type": "code",
   "execution_count": 57,
   "metadata": {},
   "outputs": [
    {
     "name": "stdout",
     "output_type": "stream",
     "text": [
      "798\n",
      "1547\n"
     ]
    },
    {
     "data": {
      "image/png": "[encoded data removed]",
      "text/plain": [
       "<Figure size 504x360 with 1 Axes>"
      ]
     },
     "metadata": {
      "needs_background": "light"
     },
     "output_type": "display_data"
    }
   ],
   "source": [
    "plotEncAndNencAvg(cc_enc, cc_nenc, [\"cc_enc\", \"cc_nenc\"])"
   ]
  },
  {
   "cell_type": "code",
   "execution_count": 58,
   "metadata": {},
   "outputs": [
    {
     "name": "stdout",
     "output_type": "stream",
     "text": [
      "982\n",
      "1767\n"
     ]
    },
    {
     "data": {
      "image/png": "[encoded data removed]",
      "text/plain": [
       "<Figure size 504x360 with 1 Axes>"
      ]
     },
     "metadata": {
      "needs_background": "light"
     },
     "output_type": "display_data"
    }
   ],
   "source": [
    "plotEncAndNencAvg(fc_enc, fc_nenc, [\"fc_enc\", \"fc_nenc\"])"
   ]
  },
  {
   "cell_type": "code",
   "execution_count": 59,
   "metadata": {},
   "outputs": [],
   "source": [
    "def flatten(df, field):\n",
    "    return list(itertools.chain.from_iterable(df[field]))"
   ]
  },
  {
   "cell_type": "code",
   "execution_count": 60,
   "metadata": {},
   "outputs": [],
   "source": [
    "field = \"cos_sims_list\"\n",
    "# Just keep all. --> No difference in getting significant results, either way p-value is <<< 0.05\n",
    "FF = pd.Series(flatten(ff_enc, field))\n",
    "CC = pd.Series(flatten(cc_enc, field))\n",
    "FC = pd.Series(flatten(fc_enc, field))\n",
    "NN = pd.Series(flatten(not_enc_df, field)) # NOT ENC GROUP.\n",
    "# NN is big, subsample it.\n",
    "NN = NN.sample(frac = 0.2, random_state = random_state)"
   ]
  },
  {
   "cell_type": "code",
   "execution_count": 61,
   "metadata": {},
   "outputs": [
    {
     "name": "stdout",
     "output_type": "stream",
     "text": [
      "FF vs *:\n",
      "7.529450882629639e-142\n",
      "0.16441217041759243\n",
      "1.273970846229618e-69\n"
     ]
    }
   ],
   "source": [
    "print(\"FF vs *:\")\n",
    "print(st.mannwhitneyu(FF, CC).pvalue)\n",
    "print(st.mannwhitneyu(FF, FC).pvalue)\n",
    "print(st.mannwhitneyu(FF, NN).pvalue)"
   ]
  },
  {
   "cell_type": "code",
   "execution_count": 62,
   "metadata": {},
   "outputs": [
    {
     "name": "stdout",
     "output_type": "stream",
     "text": [
      "CC vs *:\n",
      "7.529450882628353e-142\n",
      "6.105639031682373e-265\n",
      "0.0\n"
     ]
    }
   ],
   "source": [
    "print(\"CC vs *:\")\n",
    "print(st.mannwhitneyu(CC, FF).pvalue)\n",
    "print(st.mannwhitneyu(CC, FC).pvalue)\n",
    "print(st.mannwhitneyu(CC, NN).pvalue)"
   ]
  },
  {
   "cell_type": "code",
   "execution_count": 63,
   "metadata": {},
   "outputs": [
    {
     "name": "stdout",
     "output_type": "stream",
     "text": [
      "FC vs *:\n",
      "0.16441217041759237\n",
      "6.105639031682373e-265\n",
      "1.0640235180981945e-156\n"
     ]
    }
   ],
   "source": [
    "print(\"FC vs *:\")\n",
    "print(st.mannwhitneyu(FC, FF).pvalue)\n",
    "print(st.mannwhitneyu(FC, CC).pvalue)\n",
    "print(st.mannwhitneyu(FC, NN).pvalue)"
   ]
  },
  {
   "cell_type": "markdown",
   "metadata": {},
   "source": [
    "## Fig 2, Device Types:"
   ]
  },
  {
   "cell_type": "code",
   "execution_count": 64,
   "metadata": {},
   "outputs": [
    {
     "name": "stdout",
     "output_type": "stream",
     "text": [
      "0.395107091665268\n"
     ]
    }
   ],
   "source": [
    "upper = pd.concat([FF, CC, FC, NN]).quantile(q = 0.99)\n",
    "print(upper)"
   ]
  },
  {
   "cell_type": "code",
   "execution_count": 65,
   "metadata": {},
   "outputs": [
    {
     "name": "stdout",
     "output_type": "stream",
     "text": [
      "1000\n",
      "1000\n",
      "1000\n",
      "1000\n"
     ]
    },
    {
     "data": {
      "image/png": "[encoded data removed]",
      "text/plain": [
       "<Figure size 700x500 with 1 Axes>"
      ]
     },
     "metadata": {},
     "output_type": "display_data"
    },
    {
     "name": "stdout",
     "output_type": "stream",
     "text": [
      "CPU times: user 953 ms, sys: 562 ms, total: 1.52 s\n",
      "Wall time: 675 ms\n"
     ]
    }
   ],
   "source": [
    "%%time\n",
    "# sns.set(font_scale=1.6)\n",
    "# sns.set_style(\"white\")\n",
    "sns.reset_defaults()\n",
    "sample_size = 1000\n",
    "ax = cdf_plot(FF.sample(n = sample_size, random_state = random_state), lineStyle='-')\n",
    "ax = cdf_plot(CC.sample(n = sample_size, random_state = random_state), ax = ax, lineStyle='--')\n",
    "ax = cdf_plot(FC.sample(n = sample_size, random_state = random_state), ax = ax, lineStyle='-.')\n",
    "ax = cdf_plot(NN.sample(n = sample_size, random_state = random_state), ax = ax, lineStyle=':', \n",
    "              ylabel = 'Fraction of pairs')\n",
    "upper_xlim = 0.3;\n",
    "ax.set_xlim([0, upper_xlim])\n",
    "ax.legend([\"Flute-Flute $(FF)$\", \"Cello-Cello $(CC)$\", \n",
    "           'Flute-Cello $(FC)$', 'Non-encountered $pair$'], fontsize = 16)\n",
    "\n",
    "# plt.axhspan(0.5, 0.51, facecolor='blue', alpha = 0.5)\n",
    "# plt.axvspan(FF.quantile(q = 0.5), FF.quantile(q = 0.51), facecolor='gray', alpha = 0.5)\n",
    "ymax = 0.5\n",
    "# Color values come from inspection of values pandas plotting uses!\n",
    "xmax = FF.quantile(q = ymax)\n",
    "plt.axhline(y = ymax, color='#D0D0D0', xmin=0, lineStyle='-', xmax=xmax/upper_xlim) # set_xlim messes this up, have to scale...!\n",
    "plt.axvline(x = xmax, color='#1f77b4', ymin=0, ymax=ymax, lineStyle='-')\n",
    "\n",
    "xmax = CC.quantile(q = ymax)\n",
    "plt.axhline(y = ymax, color='#D0D0D0', xmin=0, lineStyle='-', xmax=xmax/upper_xlim) # set_xlim messes this up, have to scale...!\n",
    "plt.axvline(x = xmax, color='#ff7f0e', ymin=0, ymax=ymax, lineStyle='--')\n",
    "\n",
    "xmax = FC.quantile(q = ymax)\n",
    "plt.axhline(y = ymax, color='#D0D0D0', xmin=0, lineStyle='-', xmax=xmax/upper_xlim) # set_xlim messes this up, have to scale...!\n",
    "plt.axvline(x = xmax, color='#2ca02c', ymin=0, ymax=ymax, lineStyle='-.')\n",
    "\n",
    "xmax = NN.quantile(q = ymax)\n",
    "plt.axhline(y = ymax, color='#D0D0D0', xmin=0, lineStyle='-', xmax=xmax/upper_xlim) # set_xlim messes this up, have to scale...!\n",
    "plt.axvline(x = xmax, color='#dc4647', ymin=0, ymax=ymax, lineStyle=':')\n",
    "\n",
    "ax.set_xlabel(\"Pairwise cosine similarity of traffic profiles\", fontsize=18)\n",
    "plt.tight_layout()\n",
    "plt.savefig(\"Fig2_cdf_pairwise_devType_v501.pdf\", dpi=160)\n",
    "plt.show()"
   ]
  },
  {
   "cell_type": "code",
   "execution_count": 66,
   "metadata": {},
   "outputs": [],
   "source": [
    "def getAngularSimFromCos(cos):\n",
    "    return 1 - ( math.acos(cos - 2.2e-16) / math.pi );"
   ]
  },
  {
   "cell_type": "code",
   "execution_count": 67,
   "metadata": {},
   "outputs": [
    {
     "name": "stdout",
     "output_type": "stream",
     "text": [
      "2000\n",
      "2000\n",
      "2000\n",
      "2000\n"
     ]
    },
    {
     "data": {
      "image/png": "[encoded data removed]",
      "text/plain": [
       "<Figure size 700x500 with 1 Axes>"
      ]
     },
     "metadata": {},
     "output_type": "display_data"
    },
    {
     "name": "stdout",
     "output_type": "stream",
     "text": [
      "CPU times: user 438 ms, sys: 328 ms, total: 766 ms\n",
      "Wall time: 346 ms\n"
     ]
    }
   ],
   "source": [
    "%%time\n",
    "# Angular version of the above!\n",
    "sns.reset_defaults()\n",
    "sample_size = 2000\n",
    "ax = cdf_plot(FF.sample(n = sample_size, random_state = random_state).apply(getAngularSimFromCos), lineStyle='-')\n",
    "ax = cdf_plot(CC.sample(n = sample_size, random_state = random_state).apply(getAngularSimFromCos), ax = ax, lineStyle='--')\n",
    "ax = cdf_plot(FC.sample(n = sample_size, random_state = random_state).apply(getAngularSimFromCos), ax = ax, lineStyle='-.')\n",
    "ax = cdf_plot(NN.sample(n = sample_size, random_state = random_state).apply(getAngularSimFromCos), ax = ax, lineStyle=':', \n",
    "              ylabel = 'Fraction of pairs')\n",
    "upper_xlim = getAngularSimFromCos(0.3);\n",
    "ax.set_xlim([0.5, upper_xlim])\n",
    "ax.legend(['Flute-Flute', 'Cello-Cello', 'Flute-Cello', 'Non-encountered pair'], prop={'size': 14})\n",
    "\n",
    "# plt.axhspan(0.5, 0.51, facecolor='blue', alpha = 0.5)\n",
    "# plt.axvspan(FF.quantile(q = 0.5), FF.quantile(q = 0.51), facecolor='gray', alpha = 0.5)\n",
    "ymax = 0.5\n",
    "# Color values come from inspection of values pandas plotting uses!\n",
    "xmax = getAngularSimFromCos(FF.quantile(q = ymax))\n",
    "plt.axvline(x = xmax, color='#1f77b4', ymin=0, ymax=ymax, lineStyle='-')\n",
    "\n",
    "xmax = getAngularSimFromCos(CC.quantile(q = ymax))\n",
    "plt.axvline(x = xmax, color='#ff7f0e', ymin=0, ymax=ymax, lineStyle='--')\n",
    "\n",
    "xmax = getAngularSimFromCos(FC.quantile(q = ymax))\n",
    "plt.axvline(x = xmax, color='#2ca02c', ymin=0, ymax=ymax, lineStyle='-.')\n",
    "\n",
    "xmax = getAngularSimFromCos(NN.quantile(q = ymax))\n",
    "plt.axhline(y = ymax, color='#D0D0D0', xmin=0, lineStyle='-', xmax=upper_xlim)\n",
    "plt.axvline(x = xmax, color='#dc4647', ymin=0, ymax=ymax, lineStyle=':')\n",
    "\n",
    "ax.set_xlabel(\"Pairwise angular similarity of traffic profiles\", fontsize=18)\n",
    "plt.tight_layout()\n",
    "plt.show()"
   ]
  },
  {
   "cell_type": "markdown",
   "metadata": {},
   "source": [
    "# Separate Weekdays and Weekends:"
   ]
  },
  {
   "cell_type": "code",
   "execution_count": 68,
   "metadata": {},
   "outputs": [],
   "source": [
    "wd_enc = enc_df[enc_df['day'].isin(wd)]\n",
    "wd_nenc = not_enc_df[not_enc_df['day'].isin(wd)]\n",
    "\n",
    "we_enc = enc_df[enc_df['day'].isin(we)]\n",
    "we_nenc = not_enc_df[not_enc_df['day'].isin(we)]"
   ]
  },
  {
   "cell_type": "code",
   "execution_count": 69,
   "metadata": {},
   "outputs": [
    {
     "name": "stdout",
     "output_type": "stream",
     "text": [
      "Weekday FF 12618\n",
      "Weekday CC 21723\n",
      "Weekday FC 30185\n",
      "Weekend FF 1867\n",
      "Weekend CC 3050\n",
      "Weekend FC 4336\n"
     ]
    }
   ],
   "source": [
    "field = \"cos_sims_list\"\n",
    "\n",
    "print(\"Weekday FF\", len(pd.Series(flatten(wd_enc[wd_enc['devType']==0], field))))\n",
    "print(\"Weekday CC\", len(pd.Series(flatten(wd_enc[wd_enc['devType']==1], field))))\n",
    "print(\"Weekday FC\", len(pd.Series(flatten(wd_enc[wd_enc['devType']==2], field))))\n",
    "\n",
    "print(\"Weekend FF\", len(pd.Series(flatten(we_enc[we_enc['devType']==0], field))))\n",
    "print(\"Weekend CC\", len(pd.Series(flatten(we_enc[we_enc['devType']==1], field))))\n",
    "print(\"Weekend FC\", len(pd.Series(flatten(we_enc[we_enc['devType']==2], field))))"
   ]
  },
  {
   "cell_type": "code",
   "execution_count": 70,
   "metadata": {},
   "outputs": [],
   "source": [
    "field = \"cos_sims_list\"\n",
    "flat_wd_enc = pd.Series(flatten(wd_enc, field))\n",
    "flat_wd_nenc = pd.Series(flatten(wd_nenc, field))\n",
    "flat_we_enc = pd.Series(flatten(we_enc, field))\n",
    "flat_we_nenc = pd.Series(flatten(we_nenc, field)) # NOT ENC GROUP.\n",
    "# wd_nenc is big, subsample it.\n",
    "flat_wd_nenc = flat_wd_nenc.sample(frac = 0.05, random_state = random_state)"
   ]
  },
  {
   "cell_type": "code",
   "execution_count": 71,
   "metadata": {},
   "outputs": [
    {
     "data": {
      "text/plain": [
       "0.1593300849199295"
      ]
     },
     "execution_count": 71,
     "metadata": {},
     "output_type": "execute_result"
    }
   ],
   "source": [
    "np.median(flat_wd_enc)"
   ]
  },
  {
   "cell_type": "code",
   "execution_count": 72,
   "metadata": {},
   "outputs": [
    {
     "data": {
      "text/plain": [
       "0.12324216589331627"
      ]
     },
     "execution_count": 72,
     "metadata": {},
     "output_type": "execute_result"
    }
   ],
   "source": [
    "np.median(flat_wd_nenc)"
   ]
  },
  {
   "cell_type": "code",
   "execution_count": 73,
   "metadata": {},
   "outputs": [
    {
     "data": {
      "text/plain": [
       "0.18898020684719086"
      ]
     },
     "execution_count": 73,
     "metadata": {},
     "output_type": "execute_result"
    }
   ],
   "source": [
    "np.median(flat_we_enc)"
   ]
  },
  {
   "cell_type": "code",
   "execution_count": 74,
   "metadata": {},
   "outputs": [
    {
     "data": {
      "text/plain": [
       "0.16684254258871078"
      ]
     },
     "execution_count": 74,
     "metadata": {},
     "output_type": "execute_result"
    }
   ],
   "source": [
    "np.median(flat_we_nenc)"
   ]
  },
  {
   "cell_type": "code",
   "execution_count": 75,
   "metadata": {},
   "outputs": [
    {
     "data": {
      "text/plain": [
       "59490"
      ]
     },
     "execution_count": 75,
     "metadata": {},
     "output_type": "execute_result"
    }
   ],
   "source": [
    "len(flat_wd_nenc)"
   ]
  },
  {
   "cell_type": "code",
   "execution_count": 76,
   "metadata": {},
   "outputs": [
    {
     "name": "stdout",
     "output_type": "stream",
     "text": [
      "flat_wd_enc vs *:\n",
      "0.0\n",
      "1.955305468886584e-132\n",
      "1.2560116376267404e-38\n"
     ]
    }
   ],
   "source": [
    "print(\"flat_wd_enc vs *:\")\n",
    "print(st.mannwhitneyu(flat_wd_enc, flat_wd_nenc).pvalue)\n",
    "print(st.mannwhitneyu(flat_wd_enc, flat_we_enc).pvalue)\n",
    "print(st.mannwhitneyu(flat_wd_enc, flat_we_nenc).pvalue)"
   ]
  },
  {
   "cell_type": "code",
   "execution_count": 77,
   "metadata": {},
   "outputs": [
    {
     "name": "stdout",
     "output_type": "stream",
     "text": [
      "flat_wd_nenc vs *:\n",
      "0.0\n",
      "0.0\n",
      "0.0\n"
     ]
    }
   ],
   "source": [
    "print(\"flat_wd_nenc vs *:\")\n",
    "print(st.mannwhitneyu(flat_wd_nenc, flat_wd_enc).pvalue)\n",
    "print(st.mannwhitneyu(flat_wd_nenc, flat_we_enc).pvalue)\n",
    "print(st.mannwhitneyu(flat_wd_nenc, flat_we_nenc).pvalue)"
   ]
  },
  {
   "cell_type": "code",
   "execution_count": 78,
   "metadata": {},
   "outputs": [
    {
     "name": "stdout",
     "output_type": "stream",
     "text": [
      "flat_we_enc vs *:\n",
      "1.955305468886584e-132\n",
      "0.0\n",
      "5.783991097339134e-90\n"
     ]
    }
   ],
   "source": [
    "print(\"flat_we_enc vs *:\")\n",
    "print(st.mannwhitneyu(flat_we_enc, flat_wd_enc).pvalue)\n",
    "print(st.mannwhitneyu(flat_we_enc, flat_wd_nenc).pvalue)\n",
    "print(st.mannwhitneyu(flat_we_enc, flat_we_nenc).pvalue)"
   ]
  },
  {
   "cell_type": "markdown",
   "metadata": {},
   "source": [
    "## Fig 3, Weekday vs Weekend:"
   ]
  },
  {
   "cell_type": "code",
   "execution_count": 79,
   "metadata": {},
   "outputs": [
    {
     "name": "stdout",
     "output_type": "stream",
     "text": [
      "2000\n",
      "2000\n",
      "2000\n",
      "2000\n"
     ]
    },
    {
     "data": {
      "image/png": "[encoded data removed]",
      "text/plain": [
       "<Figure size 700x500 with 1 Axes>"
      ]
     },
     "metadata": {},
     "output_type": "display_data"
    },
    {
     "name": "stdout",
     "output_type": "stream",
     "text": [
      "CPU times: user 875 ms, sys: 406 ms, total: 1.28 s\n",
      "Wall time: 541 ms\n"
     ]
    }
   ],
   "source": [
    "%%time\n",
    "sample_size = 2000\n",
    "ax = cdf_plot(flat_wd_enc.sample(n = sample_size, random_state = random_state), lineStyle='-')\n",
    "ax = cdf_plot(flat_wd_nenc.sample(n = sample_size, random_state = random_state), ax = ax, lineStyle='--')\n",
    "ax = cdf_plot(flat_we_enc.sample(n = sample_size, random_state = random_state), ax = ax, lineStyle='-.')\n",
    "ax = cdf_plot(flat_we_nenc.sample(n = sample_size, random_state = random_state), ax = ax, lineStyle=':', \n",
    "              ylabel = 'Fraction of pairs')\n",
    "upper_xlim = 0.3;\n",
    "ax.set_xlim([0, upper_xlim])\n",
    "ax.legend(['Weekday encountered pair', 'Weekday non-encountered pair', \n",
    "           'Weekend encountered pair', 'Weekend non-encountered pair'], prop={'size': 13})\n",
    "\n",
    "# plt.axhspan(0.5, 0.51, facecolor='blue', alpha = 0.5)\n",
    "# plt.axvspan(FF.quantile(q = 0.5), FF.quantile(q = 0.51), facecolor='gray', alpha = 0.5)\n",
    "ymax = 0.5\n",
    "# Color values come from inspection of values pandas plotting uses!\n",
    "xmax = flat_wd_enc.quantile(q = ymax)\n",
    "plt.axhline(y = ymax, color='#D0D0D0', xmin=0, lineStyle='-', xmax=xmax/upper_xlim) # set_xlim messes this up, have to scale...!\n",
    "plt.axvline(x = xmax, color='#1f77b4', ymin=0, ymax=ymax, lineStyle='-')\n",
    "\n",
    "xmax = flat_wd_nenc.quantile(q = ymax)\n",
    "plt.axhline(y = ymax, color='#D0D0D0', xmin=0, lineStyle='-', xmax=xmax/upper_xlim) # set_xlim messes this up, have to scale...!\n",
    "plt.axvline(x = xmax, color='#ff7f0e', ymin=0, ymax=ymax, lineStyle='--')\n",
    "\n",
    "xmax = flat_we_enc.quantile(q = ymax)\n",
    "plt.axhline(y = ymax, color='#D0D0D0', xmin=0, lineStyle='-', xmax=xmax/upper_xlim) # set_xlim messes this up, have to scale...!\n",
    "plt.axvline(x = xmax, color='#2ca02c', ymin=0, ymax=ymax, lineStyle='-.')\n",
    "\n",
    "xmax = flat_we_nenc.quantile(q = ymax)\n",
    "plt.axhline(y = ymax, color='#D0D0D0', xmin=0, lineStyle='-', xmax=xmax/upper_xlim) # set_xlim messes this up, have to scale...!\n",
    "plt.axvline(x = xmax, color='#dc4647', ymin=0, ymax=ymax, lineStyle=':')\n",
    "\n",
    "ax.set_xlabel(\"Pairwise cosine similarity of traffic profiles\", fontsize=18)\n",
    "plt.tight_layout()\n",
    "plt.savefig(\"Fig3_cdf_pairwise_wdwe_v501.pdf\", dpi=160)\n",
    "plt.show()"
   ]
  },
  {
   "cell_type": "markdown",
   "metadata": {},
   "source": [
    "# Separate Encounter durations"
   ]
  },
  {
   "cell_type": "markdown",
   "metadata": {},
   "source": [
    "Re-populate the encountered pairs' stats, this time create encounter duration buckets.  \n",
    "Non-encountered pairs' stats does not need updating, since not_enc group doesn't have duration category."
   ]
  },
  {
   "cell_type": "code",
   "execution_count": 85,
   "metadata": {},
   "outputs": [
    {
     "data": {
      "application/vnd.jupyter.widget-view+json": {
       "model_id": "1a03f32a5018487ca95041e430680d6a",
       "version_major": 2,
       "version_minor": 0
      },
      "text/plain": [
       "HBox(children=(IntProgress(value=0, max=129), HTML(value='')))"
      ]
     },
     "metadata": {},
     "output_type": "display_data"
    },
    {
     "name": "stdout",
     "output_type": "stream",
     "text": [
      "\n"
     ]
    }
   ],
   "source": [
    "encountered = {}  # u1, u2, day, bldg.\n",
    "# HashMap for Encountered pairs' stats.\n",
    "enc_cos = defaultdict(list)\n",
    "\n",
    "# Populate encounter pairs' stats.\n",
    "for f in tqdm_notebook(encounter_files):\n",
    "    gc.collect()\n",
    "    ### INPUT:\n",
    "    enc = pd.read_parquet(f, engine=\"pyarrow\")\n",
    "    # Take the filename only, remove '.br.parquet'.\n",
    "    bldg = int(f.split(\"/\")[-1][:-11])\n",
    "    ### PROCESSING:\n",
    "    # devType counters\n",
    "    ff = 0\n",
    "    cc = 0\n",
    "    fc = 0\n",
    "    aa = 0\n",
    "    # Duration counters\n",
    "    short = 0\n",
    "    med = 0\n",
    "    long = 0\n",
    "    # Get cosine sim stats for encountered pairs.\n",
    "    for row in zip(\n",
    "        enc[\"uid1\"],\n",
    "        enc[\"uid2\"],\n",
    "        enc[\"day\"],\n",
    "        enc[\"uid1_device\"],\n",
    "        enc[\"uid2_device\"],\n",
    "        enc[\"dur\"],\n",
    "    ):\n",
    "        # Unpack the row for readability.\n",
    "        uid1 = row[0]\n",
    "        uid2 = row[1]\n",
    "        day = row[2]\n",
    "        dev1 = row[3]\n",
    "        dev2 = row[4]\n",
    "        dur = row[5]\n",
    "        # An encounter between u1,u2 in this day and building has already been counted, skip it.\n",
    "        memo_key = str(uid1) + \"#\" + str(uid2) + \"#\" + str(day) + \"#\" + str(bldg)\n",
    "        if memo_key in encountered:\n",
    "            continue\n",
    "\n",
    "        # Determine device types, devType is a number from 0 to 3.\n",
    "        if dev1 == \"f\" and dev2 == \"f\":  # (flute, flute) case.\n",
    "            devType = 0\n",
    "            ff += 1\n",
    "        elif dev1 == \"c\" and dev2 == \"c\":  # (cellos, cellos) case.\n",
    "            devType = 1\n",
    "            cc += 1\n",
    "        elif (dev1 == \"f\" and dev2 == \"c\") or (\n",
    "            dev1 == \"c\" and dev2 == \"f\"\n",
    "        ):  # (f, c) or (c, f)\n",
    "            devType = 2\n",
    "            fc += 1\n",
    "        else:  # One or both devices are neither in cellos nor flutes (any, any), shouldn't happen in sample.\n",
    "            devType = 3\n",
    "            aa += 1\n",
    "        \n",
    "        # Determine duration category, the cut-offs are based on separate analysis of encounter durations.\n",
    "        if dur < 38:\n",
    "            durCat = 0; # Short encounter.\n",
    "            short += 1;\n",
    "        elif dur >= 38 and dur < 317:\n",
    "            durCat = 1; # Medium encounter.\n",
    "            med += 1;\n",
    "        elif dur >= 317:\n",
    "            durCat = 2; # Long encounter.\n",
    "            long += 1; \n",
    "\n",
    "        tuple1 = (uid1, bldg, day)\n",
    "        tuple2 = (uid2, bldg, day)\n",
    "        if tuple1 in key2index and tuple2 in key2index:\n",
    "            u1 = tfidf[key2index[tuple1],]\n",
    "            u2 = tfidf[key2index[tuple2],]\n",
    "\n",
    "            enc_cos[(bldg, day, devType, durCat)].append(getCosineSim(u1, u2))\n",
    "            encountered[memo_key] = True"
   ]
  },
  {
   "cell_type": "code",
   "execution_count": 91,
   "metadata": {},
   "outputs": [
    {
     "data": {
      "text/html": [
       "<div>\n",
       "<style scoped>\n",
       "    .dataframe tbody tr th:only-of-type {\n",
       "        vertical-align: middle;\n",
       "    }\n",
       "\n",
       "    .dataframe tbody tr th {\n",
       "        vertical-align: top;\n",
       "    }\n",
       "\n",
       "    .dataframe thead th {\n",
       "        text-align: right;\n",
       "    }\n",
       "</style>\n",
       "<table border=\"1\" class=\"dataframe\">\n",
       "  <thead>\n",
       "    <tr style=\"text-align: right;\">\n",
       "      <th></th>\n",
       "      <th>name</th>\n",
       "      <th>day</th>\n",
       "      <th>devType</th>\n",
       "      <th>durCat</th>\n",
       "      <th>cos_sims_list</th>\n",
       "      <th>avg_cos</th>\n",
       "      <th>med_cos</th>\n",
       "    </tr>\n",
       "  </thead>\n",
       "  <tbody>\n",
       "    <tr>\n",
       "      <th>0</th>\n",
       "      <td>1</td>\n",
       "      <td>11</td>\n",
       "      <td>1</td>\n",
       "      <td>2</td>\n",
       "      <td>[0.014423125]</td>\n",
       "      <td>0.014423</td>\n",
       "      <td>0.014423</td>\n",
       "    </tr>\n",
       "    <tr>\n",
       "      <th>1</th>\n",
       "      <td>1</td>\n",
       "      <td>24</td>\n",
       "      <td>1</td>\n",
       "      <td>2</td>\n",
       "      <td>[0.08345036]</td>\n",
       "      <td>0.083450</td>\n",
       "      <td>0.083450</td>\n",
       "    </tr>\n",
       "    <tr>\n",
       "      <th>2</th>\n",
       "      <td>1</td>\n",
       "      <td>10</td>\n",
       "      <td>1</td>\n",
       "      <td>1</td>\n",
       "      <td>[0.0]</td>\n",
       "      <td>0.000000</td>\n",
       "      <td>0.000000</td>\n",
       "    </tr>\n",
       "    <tr>\n",
       "      <th>3</th>\n",
       "      <td>1</td>\n",
       "      <td>19</td>\n",
       "      <td>1</td>\n",
       "      <td>1</td>\n",
       "      <td>[0.054598715]</td>\n",
       "      <td>0.054599</td>\n",
       "      <td>0.054599</td>\n",
       "    </tr>\n",
       "    <tr>\n",
       "      <th>4</th>\n",
       "      <td>1</td>\n",
       "      <td>23</td>\n",
       "      <td>1</td>\n",
       "      <td>2</td>\n",
       "      <td>[0.22902693]</td>\n",
       "      <td>0.229027</td>\n",
       "      <td>0.229027</td>\n",
       "    </tr>\n",
       "  </tbody>\n",
       "</table>\n",
       "</div>"
      ],
      "text/plain": [
       "   name  day  devType  durCat  cos_sims_list   avg_cos   med_cos\n",
       "0     1   11        1       2  [0.014423125]  0.014423  0.014423\n",
       "1     1   24        1       2   [0.08345036]  0.083450  0.083450\n",
       "2     1   10        1       1          [0.0]  0.000000  0.000000\n",
       "3     1   19        1       1  [0.054598715]  0.054599  0.054599\n",
       "4     1   23        1       2   [0.22902693]  0.229027  0.229027"
      ]
     },
     "execution_count": 91,
     "metadata": {},
     "output_type": "execute_result"
    }
   ],
   "source": [
    "keys_name = [key[0] for key in enc_cos.keys()]\n",
    "keys_day = [key[1] for key in enc_cos.keys()]\n",
    "keys_devType = [key[2] for key in enc_cos.keys()]\n",
    "keys_durCat = [key[3] for key in enc_cos.keys()]\n",
    "vals = [val for val in enc_cos.values()]\n",
    "enc_df = pd.DataFrame(\n",
    "    {\n",
    "        \"name\": keys_name,\n",
    "        \"day\": keys_day,\n",
    "        \"devType\": keys_devType,\n",
    "        \"durCat\": keys_durCat,\n",
    "        \"cos_sims_list\": vals,\n",
    "    }\n",
    ")\n",
    "\n",
    "enc_df['avg_cos'] = enc_df.cos_sims_list.apply(getAverageOfList)\n",
    "enc_df['med_cos'] = enc_df.cos_sims_list.apply(np.median)\n",
    "\n",
    "enc_df.head()"
   ]
  },
  {
   "cell_type": "code",
   "execution_count": 92,
   "metadata": {},
   "outputs": [
    {
     "data": {
      "text/html": [
       "<div>\n",
       "<style scoped>\n",
       "    .dataframe tbody tr th:only-of-type {\n",
       "        vertical-align: middle;\n",
       "    }\n",
       "\n",
       "    .dataframe tbody tr th {\n",
       "        vertical-align: top;\n",
       "    }\n",
       "\n",
       "    .dataframe thead th {\n",
       "        text-align: right;\n",
       "    }\n",
       "</style>\n",
       "<table border=\"1\" class=\"dataframe\">\n",
       "  <thead>\n",
       "    <tr style=\"text-align: right;\">\n",
       "      <th></th>\n",
       "      <th>name</th>\n",
       "      <th>day</th>\n",
       "      <th>devType</th>\n",
       "      <th>cos_sims_list</th>\n",
       "      <th>avg_cos</th>\n",
       "      <th>med_cos</th>\n",
       "    </tr>\n",
       "  </thead>\n",
       "  <tbody>\n",
       "    <tr>\n",
       "      <th>0</th>\n",
       "      <td>1</td>\n",
       "      <td>6</td>\n",
       "      <td>1</td>\n",
       "      <td>[0.0]</td>\n",
       "      <td>0.000000</td>\n",
       "      <td>0.000000</td>\n",
       "    </tr>\n",
       "    <tr>\n",
       "      <th>1</th>\n",
       "      <td>1</td>\n",
       "      <td>6</td>\n",
       "      <td>2</td>\n",
       "      <td>[0.020571439, 0.020069953, 0.0, 0.0]</td>\n",
       "      <td>0.010160</td>\n",
       "      <td>0.010035</td>\n",
       "    </tr>\n",
       "    <tr>\n",
       "      <th>2</th>\n",
       "      <td>1</td>\n",
       "      <td>6</td>\n",
       "      <td>0</td>\n",
       "      <td>[0.18170688]</td>\n",
       "      <td>0.181707</td>\n",
       "      <td>0.181707</td>\n",
       "    </tr>\n",
       "    <tr>\n",
       "      <th>3</th>\n",
       "      <td>1</td>\n",
       "      <td>7</td>\n",
       "      <td>0</td>\n",
       "      <td>[0.0]</td>\n",
       "      <td>0.000000</td>\n",
       "      <td>0.000000</td>\n",
       "    </tr>\n",
       "    <tr>\n",
       "      <th>4</th>\n",
       "      <td>1</td>\n",
       "      <td>9</td>\n",
       "      <td>1</td>\n",
       "      <td>[0.1277339, 0.018610274]</td>\n",
       "      <td>0.073172</td>\n",
       "      <td>0.073172</td>\n",
       "    </tr>\n",
       "  </tbody>\n",
       "</table>\n",
       "</div>"
      ],
      "text/plain": [
       "   name  day  devType                         cos_sims_list   avg_cos  \\\n",
       "0     1    6        1                                 [0.0]  0.000000   \n",
       "1     1    6        2  [0.020571439, 0.020069953, 0.0, 0.0]  0.010160   \n",
       "2     1    6        0                          [0.18170688]  0.181707   \n",
       "3     1    7        0                                 [0.0]  0.000000   \n",
       "4     1    9        1              [0.1277339, 0.018610274]  0.073172   \n",
       "\n",
       "    med_cos  \n",
       "0  0.000000  \n",
       "1  0.010035  \n",
       "2  0.181707  \n",
       "3  0.000000  \n",
       "4  0.073172  "
      ]
     },
     "execution_count": 92,
     "metadata": {},
     "output_type": "execute_result"
    }
   ],
   "source": [
    "not_enc_df.head()"
   ]
  },
  {
   "cell_type": "markdown",
   "metadata": {},
   "source": [
    "###### Separate the different duration categories:"
   ]
  },
  {
   "cell_type": "code",
   "execution_count": 93,
   "metadata": {},
   "outputs": [],
   "source": [
    "s_enc = enc_df[enc_df.durCat==0]\n",
    "m_enc = enc_df[enc_df.durCat==1]\n",
    "l_enc = enc_df[enc_df.durCat==2]"
   ]
  },
  {
   "cell_type": "code",
   "execution_count": 94,
   "metadata": {},
   "outputs": [
    {
     "name": "stdout",
     "output_type": "stream",
     "text": [
      "short, medium, long counts:\n",
      "1225,1506,2316\n"
     ]
    }
   ],
   "source": [
    "print(\"short, medium, long counts:\")\n",
    "print(len(s_enc), len(m_enc), len(l_enc), sep=\",\")"
   ]
  },
  {
   "cell_type": "markdown",
   "metadata": {},
   "source": [
    "Let's plot the averages:"
   ]
  },
  {
   "cell_type": "code",
   "execution_count": 95,
   "metadata": {},
   "outputs": [
    {
     "name": "stdout",
     "output_type": "stream",
     "text": [
      "1225\n",
      "1506\n",
      "2316\n",
      "4942\n"
     ]
    },
    {
     "data": {
      "image/png": "[encoded data removed]",
      "text/plain": [
       "<Figure size 700x500 with 1 Axes>"
      ]
     },
     "metadata": {},
     "output_type": "display_data"
    }
   ],
   "source": [
    "ax = cdf_plot(s_enc.avg_cos)\n",
    "ax = cdf_plot(m_enc.avg_cos, ax = ax)\n",
    "ax = cdf_plot(l_enc.avg_cos, ax = ax)\n",
    "ax = cdf_plot(not_enc_df.avg_cos, ax = ax, lineStyle='--', ylabel = 'Fraction of pairs')\n",
    "ax.set_xlim([0, 0.3])\n",
    "ax.set_xlabel(\"Average cosine similarity of pairs across all buildings and days\")\n",
    "ax.legend([\"Short encounter\", \"Medium encounter\", \"Long encounter\", \"Non-encountered pair\"])\n",
    "plt.tight_layout()\n",
    "plt.show()"
   ]
  },
  {
   "cell_type": "markdown",
   "metadata": {},
   "source": [
    "One could also look at individual buildings:"
   ]
  },
  {
   "cell_type": "code",
   "execution_count": 99,
   "metadata": {},
   "outputs": [
    {
     "name": "stdout",
     "output_type": "stream",
     "text": [
      "44\n",
      "46\n",
      "54\n",
      "75\n"
     ]
    },
    {
     "data": {
      "image/png": "[encoded data removed]",
      "text/plain": [
       "<Figure size 700x500 with 1 Axes>"
      ]
     },
     "metadata": {},
     "output_type": "display_data"
    }
   ],
   "source": [
    "ax = cdf_plot(s_enc[s_enc.name==17].avg_cos)\n",
    "ax = cdf_plot(m_enc[m_enc.name==17].avg_cos, ax = ax)\n",
    "ax = cdf_plot(l_enc[l_enc.name==17].avg_cos, ax = ax)\n",
    "ax = cdf_plot(not_enc_df[not_enc_df.name==17].avg_cos, ax = ax, lineStyle='--')\n",
    "ax.set_xlim([0, 0.35])\n",
    "ax.set_xlabel(\"Average cosine similarity of pairs in a big building across all days\")\n",
    "ax.legend([\"short_enc\", \"med_enc\", \"long_enc\", \"nenc\"])\n",
    "plt.show()"
   ]
  },
  {
   "cell_type": "markdown",
   "metadata": {},
   "source": [
    "Flatten the list of similarities and analyze them:"
   ]
  },
  {
   "cell_type": "code",
   "execution_count": 146,
   "metadata": {},
   "outputs": [],
   "source": [
    "# Define groups of encounter duration.\n",
    "N = 5000\n",
    "short = pd.Series(flatten(s_enc, 'cos_sims_list')).sample(n = N, random_state = random_state)\n",
    "medium = pd.Series(flatten(m_enc, 'cos_sims_list')).sample(n = N, random_state = random_state)\n",
    "long = pd.Series(flatten(l_enc, 'cos_sims_list')).sample(n = N, random_state = random_state)\n",
    "nenc = pd.Series(flatten(not_enc_df, 'cos_sims_list')).sample(n = N, random_state = random_state)"
   ]
  },
  {
   "cell_type": "code",
   "execution_count": 147,
   "metadata": {},
   "outputs": [
    {
     "name": "stdout",
     "output_type": "stream",
     "text": [
      "short vs *:\n",
      "3.2829838632646615e-06\n",
      "3.5018486390819595e-97\n",
      "0.01244700706734648\n"
     ]
    }
   ],
   "source": [
    "print(\"short vs *:\")\n",
    "print(st.mannwhitneyu(short, medium).pvalue)\n",
    "print(st.mannwhitneyu(short, long).pvalue)\n",
    "print(st.mannwhitneyu(short, nenc).pvalue)"
   ]
  },
  {
   "cell_type": "code",
   "execution_count": 148,
   "metadata": {},
   "outputs": [
    {
     "name": "stdout",
     "output_type": "stream",
     "text": [
      "medium vs *:\n",
      "3.2829838632646615e-06\n",
      "7.407887955541792e-60\n",
      "0.006902920728880029\n"
     ]
    }
   ],
   "source": [
    "print(\"medium vs *:\")\n",
    "print(st.mannwhitneyu(medium, short).pvalue)\n",
    "print(st.mannwhitneyu(medium, long).pvalue)\n",
    "print(st.mannwhitneyu(medium, nenc).pvalue)"
   ]
  },
  {
   "cell_type": "code",
   "execution_count": 149,
   "metadata": {},
   "outputs": [
    {
     "name": "stdout",
     "output_type": "stream",
     "text": [
      "long vs *:\n",
      "3.5018486390819595e-97\n",
      "7.407887955541792e-60\n",
      "8.216733890539921e-85\n"
     ]
    }
   ],
   "source": [
    "print(\"long vs *:\")\n",
    "print(st.mannwhitneyu(long, short).pvalue)\n",
    "print(st.mannwhitneyu(long, medium).pvalue)\n",
    "print(st.mannwhitneyu(long, nenc).pvalue)"
   ]
  },
  {
   "cell_type": "markdown",
   "metadata": {},
   "source": [
    "## Fig 4, Encounter Duration:"
   ]
  },
  {
   "cell_type": "code",
   "execution_count": 152,
   "metadata": {},
   "outputs": [
    {
     "name": "stdout",
     "output_type": "stream",
     "text": [
      "5000\n",
      "5000\n",
      "5000\n",
      "5000\n"
     ]
    },
    {
     "data": {
      "image/png": "[encoded data removed]",
      "text/plain": [
       "<Figure size 700x500 with 1 Axes>"
      ]
     },
     "metadata": {},
     "output_type": "display_data"
    },
    {
     "name": "stdout",
     "output_type": "stream",
     "text": [
      "CPU times: user 1 s, sys: 438 ms, total: 1.44 s\n",
      "Wall time: 646 ms\n"
     ]
    }
   ],
   "source": [
    "%%time\n",
    "ax = cdf_plot(short, lineStyle=\"-\")\n",
    "ax = cdf_plot(medium, ax=ax, lineStyle=\"--\")\n",
    "ax = cdf_plot(long, ax=ax, lineStyle=\"-.\")\n",
    "ax = cdf_plot(nenc, ax=ax, lineStyle=\":\", ylabel=\"Fraction of pairs\")\n",
    "upper_xlim = 0.3\n",
    "ax.set_xlim([0, upper_xlim])\n",
    "ax.legend(\n",
    "    [\"Short encounter\", \"Medium encounter\", \"Long encounter\", \"Non-encountered pair\"],\n",
    "    fontsize=15,\n",
    ")\n",
    "\n",
    "# plt.axhspan(0.5, 0.51, facecolor='blue', alpha = 0.5)\n",
    "# plt.axvspan(FF.quantile(q = 0.5), FF.quantile(q = 0.51), facecolor='gray', alpha = 0.5)\n",
    "ymax = 0.5\n",
    "# Color values come from inspection of values pandas plotting uses!\n",
    "xmax = short.quantile(q=ymax)\n",
    "plt.axhline(\n",
    "    y=ymax, color=\"#D0D0D0\", xmin=0, lineStyle=\"-\", xmax=xmax / upper_xlim\n",
    ")  # set_xlim messes this up, have to scale...!\n",
    "plt.axvline(x=xmax, color=\"#1f77b4\", ymin=0, ymax=ymax, lineStyle=\"-\")\n",
    "\n",
    "xmax = medium.quantile(q=ymax)\n",
    "plt.axhline(\n",
    "    y=ymax, color=\"#D0D0D0\", xmin=0, lineStyle=\"-\", xmax=xmax / upper_xlim\n",
    ")  # set_xlim messes this up, have to scale...!\n",
    "plt.axvline(x=xmax, color=\"#ff7f0e\", ymin=0, ymax=ymax, lineStyle=\"--\")\n",
    "\n",
    "xmax = long.quantile(q=ymax)\n",
    "plt.axhline(\n",
    "    y=ymax, color=\"#D0D0D0\", xmin=0, lineStyle=\"-\", xmax=xmax / upper_xlim\n",
    ")  # set_xlim messes this up, have to scale...!\n",
    "plt.axvline(x=xmax, color=\"#2ca02c\", ymin=0, ymax=ymax, lineStyle=\"-.\")\n",
    "\n",
    "xmax = nenc.quantile(q=ymax)\n",
    "plt.axhline(\n",
    "    y=ymax, color=\"#D0D0D0\", xmin=0, lineStyle=\"-\", xmax=xmax / upper_xlim\n",
    ")  # set_xlim messes this up, have to scale...!\n",
    "plt.axvline(x=xmax, color=\"#dc4647\", ymin=0, ymax=ymax, lineStyle=\":\")\n",
    "\n",
    "ax.set_xlabel(\"Pairwise cosine similarity of traffic profiles\", fontsize=18)\n",
    "plt.tight_layout()\n",
    "plt.savefig(\"Fig4_cdf_pairwise_encDurCat_v601.pdf\", dpi=160)\n",
    "plt.show()\n"
   ]
  },
  {
   "cell_type": "markdown",
   "metadata": {},
   "source": [
    "###### Mannwhitney U test of short_enc/med_enc/long_enc vs nenc on same (bldg, day):"
   ]
  },
  {
   "cell_type": "code",
   "execution_count": 153,
   "metadata": {},
   "outputs": [],
   "source": [
    "bldgs = sorted( set(enc_df.name).intersection(set(not_enc_df.name)) )\n",
    "days = sorted( set(enc_df.day).intersection(set(not_enc_df.day)) )"
   ]
  },
  {
   "cell_type": "code",
   "execution_count": 155,
   "metadata": {},
   "outputs": [
    {
     "data": {
      "application/vnd.jupyter.widget-view+json": {
       "model_id": "b6431f37db6342e4bc3c5351c0339eab",
       "version_major": 2,
       "version_minor": 0
      },
      "text/plain": [
       "HBox(children=(IntProgress(value=0, max=98), HTML(value='')))"
      ]
     },
     "metadata": {},
     "output_type": "display_data"
    },
    {
     "name": "stdout",
     "output_type": "stream",
     "text": [
      "\n",
      "total, short, med, long, nenc not enough samples : \n",
      "1862,[840, 807, 645, 940]\n",
      "in % of total with not enough samples: \n",
      "[45.11278195 43.34049409 34.64017186 50.48335124]\n"
     ]
    }
   ],
   "source": [
    "not_enough_samples = [0, 0, 0, 0] # short, med, long, nenc.\n",
    "total = len(bldgs) * len(days)\n",
    "\n",
    "mann_bldgs = []\n",
    "mann_days = []\n",
    "mann_durCat = [] # 0, 1, 2 for short, med, long.\n",
    "# pval of comparison vs nenc.\n",
    "mann_pval = []\n",
    "\n",
    "for bldg in tqdm_notebook(bldgs):\n",
    "    for day in days:\n",
    "        short = list(itertools.chain.from_iterable(s_enc[( (s_enc.name==bldg) & (s_enc.day==day) )]['cos_sims_list']))\n",
    "        med   = list(itertools.chain.from_iterable(m_enc[( (m_enc.name==bldg) & (m_enc.day==day) )]['cos_sims_list']))\n",
    "        long  = list(itertools.chain.from_iterable(l_enc[( (l_enc.name==bldg) & (l_enc.day==day) )]['cos_sims_list']))\n",
    "        nenc  = list(itertools.chain.from_iterable(not_enc_df[( (not_enc_df.name==bldg) & (not_enc_df.day==day) )]['cos_sims_list']))\n",
    "    \n",
    "        if (len(nenc) < n_min_count):\n",
    "            not_enough_samples[3] += 1;\n",
    "            continue;\n",
    "        #\n",
    "        if (len(short) < n_min_count):\n",
    "            not_enough_samples[0] += 1\n",
    "        else:            \n",
    "            mann_bldgs.append(bldg)\n",
    "            mann_days.append(day)\n",
    "            mann_durCat.append(0)\n",
    "            t, p = st.mannwhitneyu(short, nenc)\n",
    "            mann_pval.append(p)\n",
    "        #    \n",
    "        if (len(med) < n_min_count):\n",
    "            not_enough_samples[1] += 1\n",
    "        else:\n",
    "            mann_bldgs.append(bldg)\n",
    "            mann_days.append(day)\n",
    "            mann_durCat.append(1)\n",
    "            t, p = st.mannwhitneyu(med, nenc)\n",
    "            mann_pval.append(p)\n",
    "        #     \n",
    "        if (len(long) < n_min_count):\n",
    "            not_enough_samples[2] += 1\n",
    "        else:\n",
    "            mann_bldgs.append(bldg)\n",
    "            mann_days.append(day)\n",
    "            mann_durCat.append(2)\n",
    "            t, p = st.mannwhitneyu(long, nenc)\n",
    "            mann_pval.append(p)\n",
    "\n",
    "print(\"total, short, med, long, nenc not enough samples : \")\n",
    "print(total, not_enough_samples, sep=\",\")\n",
    "print(\"in % of total with not enough samples: \")\n",
    "print(np.array(not_enough_samples)/total*100)"
   ]
  },
  {
   "cell_type": "code",
   "execution_count": 157,
   "metadata": {},
   "outputs": [],
   "source": [
    "comparison_df = pd.DataFrame(\n",
    "    {\"bldg\": mann_bldgs, \"day\": mann_days, \"durCat\": mann_durCat, \"pval\": mann_pval}\n",
    ")"
   ]
  },
  {
   "cell_type": "code",
   "execution_count": 158,
   "metadata": {},
   "outputs": [],
   "source": [
    "total = len(comparison_df)"
   ]
  },
  {
   "cell_type": "code",
   "execution_count": 165,
   "metadata": {},
   "outputs": [],
   "source": [
    "significance_level = 0.05"
   ]
  },
  {
   "cell_type": "code",
   "execution_count": 166,
   "metadata": {},
   "outputs": [
    {
     "name": "stdout",
     "output_type": "stream",
     "text": [
      "%Significant pval of all (bldg, day, durCat): 66.45569620253164 %\n"
     ]
    }
   ],
   "source": [
    "print(\n",
    "    \"%Significant pval of all (bldg, day, durCat):\",\n",
    "    len(comparison_df[comparison_df.pval < significance_level]) / total * 100,\n",
    "    \"%\",\n",
    ")"
   ]
  },
  {
   "cell_type": "code",
   "execution_count": 167,
   "metadata": {},
   "outputs": [
    {
     "name": "stdout",
     "output_type": "stream",
     "text": [
      "%Significant pval of all (bldg, day, durCat==0 or short): 35.36585365853659 %\n"
     ]
    }
   ],
   "source": [
    "tmp = comparison_df[comparison_df.durCat==0]\n",
    "print(\"%Significant pval of all (bldg, day, durCat==0 or short) tuples:\",\n",
    "      len(tmp[tmp.pval < significance_level])/len(tmp)*100,\"%\")"
   ]
  },
  {
   "cell_type": "code",
   "execution_count": 168,
   "metadata": {},
   "outputs": [
    {
     "name": "stdout",
     "output_type": "stream",
     "text": [
      "%Significant pval of all (bldg, day, durCat==1 or med): 45.21739130434783 %\n"
     ]
    }
   ],
   "source": [
    "tmp = comparison_df[comparison_df.durCat==1]\n",
    "print(\"%Significant pval of all (bldg, day, durCat==1 or med) tuples:\",\n",
    "      len(tmp[tmp.pval < significance_level])/len(tmp)*100,\"%\")"
   ]
  },
  {
   "cell_type": "code",
   "execution_count": 169,
   "metadata": {},
   "outputs": [
    {
     "name": "stdout",
     "output_type": "stream",
     "text": [
      "%Significant pval of all (bldg, day, durCat==2 or long): 84.47653429602889 %\n"
     ]
    }
   ],
   "source": [
    "tmp = comparison_df[comparison_df.durCat==2]\n",
    "print(\"%Significant pval of all (bldg, day, durCat==2 or long) tuples:\",\n",
    "      len(tmp[tmp.pval < significance_level])/len(tmp)*100,\"%\")"
   ]
  },
  {
   "cell_type": "code",
   "execution_count": null,
   "metadata": {},
   "outputs": [],
   "source": []
  }
 ],
 "metadata": {
  "kernelspec": {
   "display_name": "Python 3",
   "language": "python",
   "name": "python3"
  },
  "language_info": {
   "codemirror_mode": {
    "name": "ipython",
    "version": 3
   },
   "file_extension": ".py",
   "mimetype": "text/x-python",
   "name": "python",
   "nbconvert_exporter": "python",
   "pygments_lexer": "ipython3",
   "version": "3.6.6"
  },
  "widgets": {
   "application/vnd.jupyter.widget-state+json": {
    "state": {},
    "version_major": 2,
    "version_minor": 0
   }
  }
 },
 "nbformat": 4,
 "nbformat_minor": 2
}
